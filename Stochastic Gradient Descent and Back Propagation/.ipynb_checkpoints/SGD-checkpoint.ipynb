{
 "cells": [
  {
   "cell_type": "markdown",
   "metadata": {},
   "source": [
    "# Stochastic Gradient Descent and Back Propagation"
   ]
  },
  {
   "cell_type": "markdown",
   "metadata": {},
   "source": [
    "## Libraries"
   ]
  },
  {
   "cell_type": "code",
   "execution_count": 1,
   "metadata": {},
   "outputs": [],
   "source": [
    "import pandas as pd\n",
    "import numpy as np\n",
    "from matplotlib import pyplot as plt\n",
    "import seaborn as sns"
   ]
  },
  {
   "cell_type": "markdown",
   "metadata": {},
   "source": [
    "## Example 1"
   ]
  },
  {
   "cell_type": "markdown",
   "metadata": {},
   "source": [
    "Let's focus on very simple function. For example \n",
    "$$ f(x) = x^{2} + 1 $$"
   ]
  },
  {
   "cell_type": "markdown",
   "metadata": {},
   "source": [
    "The derivative of this function is:\n",
    "$$ f'(x) = 2x $$"
   ]
  },
  {
   "cell_type": "markdown",
   "metadata": {},
   "source": [
    "The extreme (minimum) of the function f(x) is in $x_{0}=1$, because the solution of equation $f'(x)=0$ is in point $x=0$. Then we can find the extreme of the function in $x=0$.\n",
    "$$ f(0) = 1 $$"
   ]
  },
  {
   "cell_type": "markdown",
   "metadata": {},
   "source": [
    "But what if we have more sophisticated function and we can calculate derivative but finding local/global minimum is very difficult. Then we can use Stochastic Gradient Descent. Let's try to write the function which will calculate it."
   ]
  },
  {
   "cell_type": "code",
   "execution_count": 2,
   "metadata": {},
   "outputs": [],
   "source": [
    "def f(x): \n",
    "    return x**2 + 1\n",
    "\n",
    "def grad_f(x):\n",
    "    return 2*x"
   ]
  },
  {
   "cell_type": "code",
   "execution_count": 3,
   "metadata": {},
   "outputs": [],
   "source": [
    "x = np.arange(-2, 2.05, 0.05)\n",
    "y = f(x)\n",
    "grad = grad_f(x)\n",
    "\n",
    "sample_data = pd.DataFrame({'x':x, 'y':y, 'grad_f':grad})"
   ]
  },
  {
   "cell_type": "code",
   "execution_count": 4,
   "metadata": {},
   "outputs": [
    {
     "data": {
      "text/html": [
       "<div>\n",
       "<style scoped>\n",
       "    .dataframe tbody tr th:only-of-type {\n",
       "        vertical-align: middle;\n",
       "    }\n",
       "\n",
       "    .dataframe tbody tr th {\n",
       "        vertical-align: top;\n",
       "    }\n",
       "\n",
       "    .dataframe thead th {\n",
       "        text-align: right;\n",
       "    }\n",
       "</style>\n",
       "<table border=\"1\" class=\"dataframe\">\n",
       "  <thead>\n",
       "    <tr style=\"text-align: right;\">\n",
       "      <th></th>\n",
       "      <th>x</th>\n",
       "      <th>y</th>\n",
       "      <th>grad_f</th>\n",
       "    </tr>\n",
       "  </thead>\n",
       "  <tbody>\n",
       "    <tr>\n",
       "      <th>0</th>\n",
       "      <td>-2.00</td>\n",
       "      <td>5.0000</td>\n",
       "      <td>-4.0</td>\n",
       "    </tr>\n",
       "    <tr>\n",
       "      <th>1</th>\n",
       "      <td>-1.95</td>\n",
       "      <td>4.8025</td>\n",
       "      <td>-3.9</td>\n",
       "    </tr>\n",
       "    <tr>\n",
       "      <th>2</th>\n",
       "      <td>-1.90</td>\n",
       "      <td>4.6100</td>\n",
       "      <td>-3.8</td>\n",
       "    </tr>\n",
       "    <tr>\n",
       "      <th>3</th>\n",
       "      <td>-1.85</td>\n",
       "      <td>4.4225</td>\n",
       "      <td>-3.7</td>\n",
       "    </tr>\n",
       "    <tr>\n",
       "      <th>4</th>\n",
       "      <td>-1.80</td>\n",
       "      <td>4.2400</td>\n",
       "      <td>-3.6</td>\n",
       "    </tr>\n",
       "  </tbody>\n",
       "</table>\n",
       "</div>"
      ],
      "text/plain": [
       "      x       y  grad_f\n",
       "0 -2.00  5.0000    -4.0\n",
       "1 -1.95  4.8025    -3.9\n",
       "2 -1.90  4.6100    -3.8\n",
       "3 -1.85  4.4225    -3.7\n",
       "4 -1.80  4.2400    -3.6"
      ]
     },
     "execution_count": 4,
     "metadata": {},
     "output_type": "execute_result"
    }
   ],
   "source": [
    "sample_data.head()"
   ]
  },
  {
   "cell_type": "code",
   "execution_count": 5,
   "metadata": {},
   "outputs": [],
   "source": [
    "from plotnine import ggplot, geom_line, aes, theme_bw, labs, geom_point\n",
    "\n",
    "base_plot=(\n",
    "    ggplot(sample_data, aes(x='x', y='y'))\n",
    "    + geom_line(color='red')\n",
    "    + geom_line(aes(y='grad_f'), color='blue')\n",
    "    + theme_bw()\n",
    "    + labs(x='x', y = 'y')\n",
    ")\n"
   ]
  },
  {
   "cell_type": "markdown",
   "metadata": {},
   "source": [
    "## Gradient Descent"
   ]
  },
  {
   "cell_type": "code",
   "execution_count": 58,
   "metadata": {},
   "outputs": [],
   "source": [
    "x0 = 1.345\n",
    "lr = 0.1\n",
    "epochs = 30\n",
    "\n",
    "def GD_ordinary_fun(f, grad_f, x0, lr, epochs):\n",
    "    x=x0\n",
    "    results=pd.DataFrame({'x':[x], 'y':[f(x)], 'grad_f':[grad_f(x)]})\n",
    "    for i in range(epochs):\n",
    "        x=x - lr*grad_f(x)\n",
    "        results=results.append({'x':x, 'y':f(x), 'grad_f':grad_f(x)}, ignore_index=True)\n",
    "        print(\"Updated x value: {}. Updated f(x) value: {}\".format(np.round(x, 8), np.round(f(x), 8)))\n",
    "    return results\n",
    "\n",
    "def plot(data, data_grad):\n",
    "    base_plot = (\n",
    "        ggplot(data, aes(x='x', y='y'))\n",
    "        + geom_line(color='red')\n",
    "        + geom_line(aes(y='grad_f'), color='blue')\n",
    "        + theme_bw()\n",
    "        + labs(x='x', y = 'y')\n",
    "    )\n",
    "    p = (\n",
    "        + geom_point(data=data_grad, color='black')\n",
    "    )\n",
    "    return p"
   ]
  },
  {
   "cell_type": "code",
   "execution_count": 43,
   "metadata": {},
   "outputs": [
    {
     "name": "stdout",
     "output_type": "stream",
     "text": [
      "Updated x value: 1.076. Updated f(x) value: 2.157776\n",
      "Updated x value: 0.8608. Updated f(x) value: 1.74097664\n",
      "Updated x value: 0.68864. Updated f(x) value: 1.47422505\n",
      "Updated x value: 0.550912. Updated f(x) value: 1.30350403\n",
      "Updated x value: 0.4407296. Updated f(x) value: 1.19424258\n",
      "Updated x value: 0.35258368. Updated f(x) value: 1.12431525\n",
      "Updated x value: 0.28206694. Updated f(x) value: 1.07956176\n",
      "Updated x value: 0.22565356. Updated f(x) value: 1.05091953\n",
      "Updated x value: 0.18052284. Updated f(x) value: 1.0325885\n",
      "Updated x value: 0.14441828. Updated f(x) value: 1.02085664\n",
      "Updated x value: 0.11553462. Updated f(x) value: 1.01334825\n",
      "Updated x value: 0.0924277. Updated f(x) value: 1.00854288\n",
      "Updated x value: 0.07394216. Updated f(x) value: 1.00546744\n",
      "Updated x value: 0.05915373. Updated f(x) value: 1.00349916\n",
      "Updated x value: 0.04732298. Updated f(x) value: 1.00223946\n",
      "Updated x value: 0.03785838. Updated f(x) value: 1.00143326\n",
      "Updated x value: 0.03028671. Updated f(x) value: 1.00091728\n",
      "Updated x value: 0.02422937. Updated f(x) value: 1.00058706\n",
      "Updated x value: 0.01938349. Updated f(x) value: 1.00037572\n",
      "Updated x value: 0.01550679. Updated f(x) value: 1.00024046\n",
      "Updated x value: 0.01240544. Updated f(x) value: 1.00015389\n",
      "Updated x value: 0.00992435. Updated f(x) value: 1.00009849\n",
      "Updated x value: 0.00793948. Updated f(x) value: 1.00006304\n",
      "Updated x value: 0.00635158. Updated f(x) value: 1.00004034\n",
      "Updated x value: 0.00508127. Updated f(x) value: 1.00002582\n",
      "Updated x value: 0.00406501. Updated f(x) value: 1.00001652\n",
      "Updated x value: 0.00325201. Updated f(x) value: 1.00001058\n",
      "Updated x value: 0.00260161. Updated f(x) value: 1.00000677\n",
      "Updated x value: 0.00208129. Updated f(x) value: 1.00000433\n",
      "Updated x value: 0.00166503. Updated f(x) value: 1.00000277\n"
     ]
    }
   ],
   "source": [
    "task1=GD_ordinary_fun(f, grad_f, x0, lr, epochs)"
   ]
  },
  {
   "cell_type": "code",
   "execution_count": 45,
   "metadata": {},
   "outputs": [
    {
     "data": {
      "image/png": "[encoded data removed]",
      "text/plain": [
       "<Figure size 640x480 with 1 Axes>"
      ]
     },
     "metadata": {},
     "output_type": "display_data"
    },
    {
     "data": {
      "text/plain": [
       "<ggplot: (-9223371922876822005)>"
      ]
     },
     "execution_count": 45,
     "metadata": {},
     "output_type": "execute_result"
    }
   ],
   "source": [
    "plot(sample_data, task1)"
   ]
  },
  {
   "cell_type": "markdown",
   "metadata": {},
   "source": [
    "Above we sole the realy easy problem for function with one parameter. What if we try to do this for a function with multiple variables ? We can try to use gradient descent in one of the more commonly problem - linear regression."
   ]
  },
  {
   "cell_type": "code",
   "execution_count": 64,
   "metadata": {},
   "outputs": [
    {
     "data": {
      "image/png": "[encoded data removed]",
      "text/plain": [
       "<Figure size 640x480 with 1 Axes>"
      ]
     },
     "metadata": {},
     "output_type": "display_data"
    },
    {
     "data": {
      "text/plain": [
       "<ggplot: (113982006483)>"
      ]
     },
     "execution_count": 64,
     "metadata": {},
     "output_type": "execute_result"
    }
   ],
   "source": [
    "np.random.seed(666)\n",
    "\n",
    "x = np.random.uniform(-3, 3, 50)\n",
    "y = x + np.random.normal(3, 1.2, 50)\n",
    "sample_data = pd.DataFrame({'x':x, 'y':y})\n",
    "\n",
    "base_plot = (\n",
    "        ggplot(sample_data, aes(x='x', y='y'))\n",
    "        + geom_point(color='red')\n",
    "        + theme_bw()\n",
    "        + labs(x='x', y = 'y')\n",
    ")\n",
    "base_plot"
   ]
  },
  {
   "cell_type": "markdown",
   "metadata": {},
   "source": [
    "Our aim is to find optimal parameters $\\beta_{0}$ and $\\beta_{1}$ of the linear regression mofel $y = \\beta_{0} + \\beta_{1}x$. For check our solution we will calculate MSE (Mean Squared Error) in each iteration. The best model is the model where the MSE in minimized so our target is to minimized MSE error. Before calculate optimal parameters own let's find this parameters using sklearn module."
   ]
  },
  {
   "cell_type": "code",
   "execution_count": 78,
   "metadata": {},
   "outputs": [
    {
     "data": {
      "text/plain": [
       "array([ 3.97651347,  5.01533271,  2.87733572,  2.74441023,  5.94193636,\n",
       "        0.3969064 ,  1.96975775,  2.03015883,  0.36400405,  4.870172  ,\n",
       "        1.2941515 ,  4.38813542,  2.29246011,  5.64997772,  1.21787975,\n",
       "        2.74194091, -2.21197354,  0.79759877, -3.04812268,  5.55822951,\n",
       "       -0.01258474,  3.23937061,  2.71884   ,  1.56409593,  4.50021086,\n",
       "        6.47617277,  3.58660422,  2.70776945,  3.5391981 ,  2.64540722,\n",
       "        5.24949144,  4.53302091,  4.18653391,  5.37117384,  3.35407702,\n",
       "        4.2535031 ,  3.17773431,  1.26430537,  3.51064356,  1.24796351,\n",
       "        0.90746568,  3.54821792, -0.17470737,  4.26885164,  0.44750296,\n",
       "        1.61383577,  1.0346466 ,  5.15003961,  3.2261089 ,  2.28497144])"
      ]
     },
     "execution_count": 78,
     "metadata": {},
     "output_type": "execute_result"
    }
   ],
   "source": [
    "np.array(sample_data['y'])"
   ]
  },
  {
   "cell_type": "code",
   "execution_count": 114,
   "metadata": {},
   "outputs": [],
   "source": [
    "from sklearn.linear_model import LinearRegression\n",
    "from sklearn.metrics import mean_squared_error,  as mse\n",
    "\n",
    "X = np.array(sample_data.x).reshape(-1, 1)\n",
    "y = np.array(sample_data.y).reshape(-1, 1)\n",
    "lm_model = LinearRegression(fit_intercept=True)\n",
    "lm_model.fit(X, y)\n",
    "y_pred = lm_model.predict(X)"
   ]
  },
  {
   "cell_type": "code",
   "execution_count": 115,
   "metadata": {},
   "outputs": [
    {
     "name": "stdout",
     "output_type": "stream",
     "text": [
      "y = 2.9291 + 0.8878x\n"
     ]
    }
   ],
   "source": [
    "print(\"y = {} + {}x\".format(\n",
    "    np.round(lm_model.intercept_[0],4), \n",
    "    np.round(lm_model.coef_[0][0], 4))\n",
    "     )"
   ]
  },
  {
   "cell_type": "code",
   "execution_count": 119,
   "metadata": {},
   "outputs": [
    {
     "name": "stdout",
     "output_type": "stream",
     "text": [
      "Mean Squared Error = 1.553\n"
     ]
    }
   ],
   "source": [
    "print(\"Mean Squared Error = {}\".format(np.round(mse(y, y_pred), 3)))"
   ]
  },
  {
   "cell_type": "markdown",
   "metadata": {},
   "source": [
    "Right now we will try to find similar solution using ourself gradient descent. "
   ]
  },
  {
   "cell_type": "code",
   "execution_count": 220,
   "metadata": {},
   "outputs": [
    {
     "data": {
      "text/html": [
       "<div>\n",
       "<style scoped>\n",
       "    .dataframe tbody tr th:only-of-type {\n",
       "        vertical-align: middle;\n",
       "    }\n",
       "\n",
       "    .dataframe tbody tr th {\n",
       "        vertical-align: top;\n",
       "    }\n",
       "\n",
       "    .dataframe thead th {\n",
       "        text-align: right;\n",
       "    }\n",
       "</style>\n",
       "<table border=\"1\" class=\"dataframe\">\n",
       "  <thead>\n",
       "    <tr style=\"text-align: right;\">\n",
       "      <th></th>\n",
       "      <th>x0</th>\n",
       "      <th>x1</th>\n",
       "    </tr>\n",
       "  </thead>\n",
       "  <tbody>\n",
       "    <tr>\n",
       "      <th>0</th>\n",
       "      <td>1</td>\n",
       "      <td>1.202623</td>\n",
       "    </tr>\n",
       "    <tr>\n",
       "      <th>1</th>\n",
       "      <td>1</td>\n",
       "      <td>2.065120</td>\n",
       "    </tr>\n",
       "    <tr>\n",
       "      <th>2</th>\n",
       "      <td>1</td>\n",
       "      <td>1.059086</td>\n",
       "    </tr>\n",
       "    <tr>\n",
       "      <th>3</th>\n",
       "      <td>1</td>\n",
       "      <td>1.367148</td>\n",
       "    </tr>\n",
       "    <tr>\n",
       "      <th>4</th>\n",
       "      <td>1</td>\n",
       "      <td>2.708748</td>\n",
       "    </tr>\n",
       "  </tbody>\n",
       "</table>\n",
       "</div>"
      ],
      "text/plain": [
       "   x0        x1\n",
       "0   1  1.202623\n",
       "1   1  2.065120\n",
       "2   1  1.059086\n",
       "3   1  1.367148\n",
       "4   1  2.708748"
      ]
     },
     "execution_count": 220,
     "metadata": {},
     "output_type": "execute_result"
    }
   ],
   "source": [
    "X = pd.DataFrame({'x0':1, 'x1':sample_data.x})\n",
    "X.head()"
   ]
  },
  {
   "cell_type": "code",
   "execution_count": 221,
   "metadata": {},
   "outputs": [],
   "source": [
    "X = np.array(X).reshape(2, 50)\n",
    "y = np.array(sample_data.y).reshape(-1, 2)"
   ]
  },
  {
   "cell_type": "code",
   "execution_count": 222,
   "metadata": {},
   "outputs": [
    {
     "data": {
      "text/plain": [
       "array([[ 1.        ,  1.20262273,  1.        ,  2.06511986,  1.        ,\n",
       "         1.05908602,  1.        ,  1.36714834,  1.        ,  2.70874774,\n",
       "         1.        , -2.92378082,  1.        , -0.51847381,  1.        ,\n",
       "        -2.70712324,  1.        , -2.40042863,  1.        ,  0.04839783,\n",
       "         1.        , -1.79851476,  1.        ,  1.46492501,  1.        ,\n",
       "        -1.84264798,  1.        ,  1.20506851,  1.        , -1.24063136,\n",
       "         1.        ,  1.64687673,  1.        , -2.96934697,  1.        ,\n",
       "        -2.32285408,  1.        , -2.33427797,  1.        , -1.51399063,\n",
       "         1.        , -2.8605822 ,  1.        ,  1.36392693,  1.        ,\n",
       "        -0.95979035,  1.        , -1.81498106,  1.        ,  2.45507756],\n",
       "       [ 1.        ,  2.87008191,  1.        ,  0.19681526,  1.        ,\n",
       "        -1.4452089 ,  1.        ,  0.50287571,  1.        , -1.04585608,\n",
       "         1.        ,  2.33339588,  1.        ,  0.75842716,  1.        ,\n",
       "         1.91324214,  1.        ,  0.28407252,  1.        , -0.49972796,\n",
       "         1.        ,  1.45828315,  1.        , -0.78242171,  1.        ,\n",
       "        -2.54900074,  1.        ,  1.65115787,  1.        , -1.68354453,\n",
       "         1.        , -2.52394724,  1.        , -0.07931687,  1.        ,\n",
       "        -2.07795659,  1.        ,  1.9707908 ,  1.        , -1.85178859,\n",
       "         1.        , -1.37754628,  1.        ,  0.36620653,  1.        ,\n",
       "         2.41428234,  1.        ,  2.11073005,  1.        , -0.49150824]])"
      ]
     },
     "execution_count": 222,
     "metadata": {},
     "output_type": "execute_result"
    }
   ],
   "source": [
    "X"
   ]
  },
  {
   "cell_type": "code",
   "execution_count": null,
   "metadata": {},
   "outputs": [],
   "source": [
    "def MSE(beta, X, y):\n",
    "    y_pred = np.dot(beta,X)\n",
    "    return result\n"
   ]
  },
  {
   "cell_type": "code",
   "execution_count": 210,
   "metadata": {},
   "outputs": [],
   "source": [
    "b=np.array([0.1, 0.2]).reshape(1, 2)"
   ]
  },
  {
   "cell_type": "code",
   "execution_count": 223,
   "metadata": {},
   "outputs": [
    {
     "data": {
      "text/plain": [
       "array([[ 0.3       ,  0.69427866,  0.3       ,  0.24587504,  0.3       ,\n",
       "        -0.18313318,  0.3       ,  0.23728998,  0.3       ,  0.06170356,\n",
       "         0.3       ,  0.17430109,  0.3       ,  0.09983805,  0.3       ,\n",
       "         0.1119361 ,  0.3       , -0.18322836,  0.3       , -0.09510581,\n",
       "         0.3       ,  0.11180515,  0.3       , -0.00999184,  0.3       ,\n",
       "        -0.69406495,  0.3       ,  0.45073843,  0.3       , -0.46077204,\n",
       "         0.3       , -0.34010178,  0.3       , -0.31279807,  0.3       ,\n",
       "        -0.64787673,  0.3       ,  0.16073036,  0.3       , -0.52175678,\n",
       "         0.3       , -0.56156748,  0.3       ,  0.209634  ,  0.3       ,\n",
       "         0.38687743,  0.3       ,  0.2406479 ,  0.3       ,  0.14720611]])"
      ]
     },
     "execution_count": 223,
     "metadata": {},
     "output_type": "execute_result"
    }
   ],
   "source": [
    "np.dot(b, X)"
   ]
  },
  {
   "cell_type": "code",
   "execution_count": 203,
   "metadata": {},
   "outputs": [
    {
     "data": {
      "text/plain": [
       "array([[0.1, 0.2]])"
      ]
     },
     "execution_count": 203,
     "metadata": {},
     "output_type": "execute_result"
    }
   ],
   "source": [
    "np.array([0.1, 0.2]).reshape(1, 2)"
   ]
  },
  {
   "cell_type": "code",
   "execution_count": 204,
   "metadata": {},
   "outputs": [
    {
     "data": {
      "text/plain": [
       "array([[ 1.        ,  1.20262273],\n",
       "       [ 1.        ,  2.06511986],\n",
       "       [ 1.        ,  1.05908602],\n",
       "       [ 1.        ,  1.36714834],\n",
       "       [ 1.        ,  2.70874774],\n",
       "       [ 1.        , -2.92378082],\n",
       "       [ 1.        , -0.51847381],\n",
       "       [ 1.        , -2.70712324],\n",
       "       [ 1.        , -2.40042863],\n",
       "       [ 1.        ,  0.04839783],\n",
       "       [ 1.        , -1.79851476],\n",
       "       [ 1.        ,  1.46492501],\n",
       "       [ 1.        , -1.84264798],\n",
       "       [ 1.        ,  1.20506851],\n",
       "       [ 1.        , -1.24063136],\n",
       "       [ 1.        ,  1.64687673],\n",
       "       [ 1.        , -2.96934697],\n",
       "       [ 1.        , -2.32285408],\n",
       "       [ 1.        , -2.33427797],\n",
       "       [ 1.        , -1.51399063],\n",
       "       [ 1.        , -2.8605822 ],\n",
       "       [ 1.        ,  1.36392693],\n",
       "       [ 1.        , -0.95979035],\n",
       "       [ 1.        , -1.81498106],\n",
       "       [ 1.        ,  2.45507756],\n",
       "       [ 1.        ,  2.87008191],\n",
       "       [ 1.        ,  0.19681526],\n",
       "       [ 1.        , -1.4452089 ],\n",
       "       [ 1.        ,  0.50287571],\n",
       "       [ 1.        , -1.04585608],\n",
       "       [ 1.        ,  2.33339588],\n",
       "       [ 1.        ,  0.75842716],\n",
       "       [ 1.        ,  1.91324214],\n",
       "       [ 1.        ,  0.28407252],\n",
       "       [ 1.        , -0.49972796],\n",
       "       [ 1.        ,  1.45828315],\n",
       "       [ 1.        , -0.78242171],\n",
       "       [ 1.        , -2.54900074],\n",
       "       [ 1.        ,  1.65115787],\n",
       "       [ 1.        , -1.68354453],\n",
       "       [ 1.        , -2.52394724],\n",
       "       [ 1.        , -0.07931687],\n",
       "       [ 1.        , -2.07795659],\n",
       "       [ 1.        ,  1.9707908 ],\n",
       "       [ 1.        , -1.85178859],\n",
       "       [ 1.        , -1.37754628],\n",
       "       [ 1.        ,  0.36620653],\n",
       "       [ 1.        ,  2.41428234],\n",
       "       [ 1.        ,  2.11073005],\n",
       "       [ 1.        , -0.49150824]])"
      ]
     },
     "execution_count": 204,
     "metadata": {},
     "output_type": "execute_result"
    }
   ],
   "source": [
    "X"
   ]
  }
 ],
 "metadata": {
  "kernelspec": {
   "display_name": "Python 3",
   "language": "python",
   "name": "python3"
  },
  "language_info": {
   "codemirror_mode": {
    "name": "ipython",
    "version": 3
   },
   "file_extension": ".py",
   "mimetype": "text/x-python",
   "name": "python",
   "nbconvert_exporter": "python",
   "pygments_lexer": "ipython3",
   "version": "3.7.1"
  }
 },
 "nbformat": 4,
 "nbformat_minor": 2
}
