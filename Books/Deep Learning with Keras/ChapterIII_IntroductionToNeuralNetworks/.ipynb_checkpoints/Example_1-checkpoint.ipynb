{
 "cells": [
  {
   "cell_type": "markdown",
   "metadata": {},
   "source": [
    "## Load Imdb dataset"
   ]
  },
  {
   "cell_type": "code",
   "execution_count": 43,
   "metadata": {},
   "outputs": [],
   "source": [
    "from tensorflow.keras import datasets\n",
    "\n",
    "(train_data, train_labels), (test_data, test_labels) = datasets.imdb.load_data(num_words=10000)"
   ]
  },
  {
   "cell_type": "code",
   "execution_count": 45,
   "metadata": {},
   "outputs": [
    {
     "name": "stdout",
     "output_type": "stream",
     "text": [
      "Training data shape: (25000,)\n",
      "Testing data shape: (25000,)\n"
     ]
    }
   ],
   "source": [
    "print(\"Training data shape:\", train_data.shape)\n",
    "print(\"Testing data shape:\", train_labels.shape)"
   ]
  },
  {
   "cell_type": "markdown",
   "metadata": {},
   "source": [
    "## Decoding"
   ]
  },
  {
   "cell_type": "code",
   "execution_count": 49,
   "metadata": {},
   "outputs": [
    {
     "name": "stdout",
     "output_type": "stream",
     "text": [
      "Downloading data from https://storage.googleapis.com/tensorflow/tf-keras-datasets/imdb_word_index.json\n",
      "1646592/1641221 [==============================] - 4s 3us/step\n"
     ]
    }
   ],
   "source": [
    "word_index = datasets.imdb.get_word_index()\n",
    "reverse_word_index = dict(\n",
    "    [(value, key) for (key, value) in word_index.items()])\n",
    "\n",
    "decoded_review = ' '.join(\n",
    "    [reverse_word_index.get(i - 3, '?') for i in train_data[0]])"
   ]
  },
  {
   "cell_type": "code",
   "execution_count": 50,
   "metadata": {},
   "outputs": [
    {
     "name": "stdout",
     "output_type": "stream",
     "text": [
      "? this film was just brilliant casting location scenery story direction everyone's really suited the part they played and you could just imagine being there robert ? is an amazing actor and now the same being director ? father came from the same scottish island as myself so i loved the fact there was a real connection with this film the witty remarks throughout the film were great it was just brilliant so much that i bought the film as soon as it was released for ? and would recommend it to everyone to watch and the fly fishing was amazing really cried at the end it was so sad and you know what they say if you cry at a film it must have been good and this definitely was also ? to the two little boy's that played the ? of norman and paul they were just brilliant children are often left out of the ? list i think because the stars that play them all grown up are such a big profile for the whole film but these children are amazing and should be praised for what they have done don't you think the whole story was so lovely because it was true and was someone's life after all that was shared with us all\n"
     ]
    }
   ],
   "source": [
    "print(decoded_review)"
   ]
  },
  {
   "cell_type": "markdown",
   "metadata": {},
   "source": [
    "## Data preparation"
   ]
  },
  {
   "cell_type": "code",
   "execution_count": null,
   "metadata": {},
   "outputs": [],
   "source": [
    "import numpy as np\n",
    "\n",
    "def vectorize_sequences(sequences, dimension = 10000):\n",
    "    results = np.zeros((len(sequences), dimension))\n",
    "    for i, sequence in enumerate(sequences):\n",
    "        results[i, sequence] = 1\n",
    "    return results"
   ]
  },
  {
   "cell_type": "code",
   "execution_count": 54,
   "metadata": {},
   "outputs": [],
   "source": [
    "x_train = vectorize_sequences(train_data)\n",
    "x_test = vectorize_sequences(test_data)"
   ]
  },
  {
   "cell_type": "code",
   "execution_count": 65,
   "metadata": {},
   "outputs": [],
   "source": [
    "y_train = np.asarray(train_labels).astype('float32')\n",
    "y_test = np.asarray(test_labels).astype('float32')"
   ]
  },
  {
   "cell_type": "markdown",
   "metadata": {},
   "source": [
    "## Neural Networks"
   ]
  },
  {
   "cell_type": "code",
   "execution_count": 90,
   "metadata": {},
   "outputs": [],
   "source": [
    "from tensorflow.keras import models\n",
    "from tensorflow.keras import layers\n",
    "\n",
    "model = models.Sequential()\n",
    "model.add(layers.Dense(16, activation='relu', input_shape = (x_train.shape[1],)))\n",
    "model.add(layers.Dense(16, activation='relu'))\n",
    "model.add(layers.Dense(1, activation='sigmoid'))"
   ]
  },
  {
   "cell_type": "code",
   "execution_count": 91,
   "metadata": {},
   "outputs": [],
   "source": [
    "from tensorflow.keras import optimizers\n",
    "\n",
    "model.compile(optimizer=optimizers.RMSprop(lr=0.001),\n",
    "             loss='binary_crossentropy',\n",
    "             metrics=['accuracy'])"
   ]
  },
  {
   "cell_type": "markdown",
   "metadata": {},
   "source": [
    "## Walidacja modelu"
   ]
  },
  {
   "cell_type": "code",
   "execution_count": 69,
   "metadata": {},
   "outputs": [],
   "source": [
    "x_val = x_train[:10000]\n",
    "partial_x_train = x_train[10000:]\n",
    "\n",
    "y_val = y_train[:10000]\n",
    "partial_y_train = y_train[10000:]"
   ]
  },
  {
   "cell_type": "code",
   "execution_count": 74,
   "metadata": {},
   "outputs": [
    {
     "name": "stdout",
     "output_type": "stream",
     "text": [
      "Train on 15000 samples, validate on 10000 samples\n",
      "Epoch 1/20\n",
      "15000/15000 [==============================] - 2s 121us/sample - loss: 0.1802 - accuracy: 0.9415 - val_loss: 0.2883 - val_accuracy: 0.8840\n",
      "Epoch 2/20\n",
      "15000/15000 [==============================] - 2s 119us/sample - loss: 0.1439 - accuracy: 0.9531 - val_loss: 0.2782 - val_accuracy: 0.8881\n",
      "Epoch 3/20\n",
      "15000/15000 [==============================] - 2s 118us/sample - loss: 0.1208 - accuracy: 0.9617 - val_loss: 0.2932 - val_accuracy: 0.8853\n",
      "Epoch 4/20\n",
      "15000/15000 [==============================] - 2s 125us/sample - loss: 0.0977 - accuracy: 0.9717 - val_loss: 0.3403 - val_accuracy: 0.8766\n",
      "Epoch 5/20\n",
      "15000/15000 [==============================] - 2s 127us/sample - loss: 0.0796 - accuracy: 0.9790 - val_loss: 0.3428 - val_accuracy: 0.8803\n",
      "Epoch 6/20\n",
      "15000/15000 [==============================] - 2s 143us/sample - loss: 0.0690 - accuracy: 0.9808 - val_loss: 0.3487 - val_accuracy: 0.8792\n",
      "Epoch 7/20\n",
      "15000/15000 [==============================] - 2s 149us/sample - loss: 0.0564 - accuracy: 0.9857 - val_loss: 0.3813 - val_accuracy: 0.8722\n",
      "Epoch 8/20\n",
      "15000/15000 [==============================] - 2s 136us/sample - loss: 0.0430 - accuracy: 0.9907 - val_loss: 0.4122 - val_accuracy: 0.8690\n",
      "Epoch 9/20\n",
      "15000/15000 [==============================] - 2s 132us/sample - loss: 0.0361 - accuracy: 0.9930 - val_loss: 0.4289 - val_accuracy: 0.8745\n",
      "Epoch 10/20\n",
      "15000/15000 [==============================] - 2s 134us/sample - loss: 0.0295 - accuracy: 0.9948 - val_loss: 0.4556 - val_accuracy: 0.8735\n",
      "Epoch 11/20\n",
      "15000/15000 [==============================] - 2s 120us/sample - loss: 0.0237 - accuracy: 0.9958 - val_loss: 0.5053 - val_accuracy: 0.8713\n",
      "Epoch 12/20\n",
      "15000/15000 [==============================] - 2s 120us/sample - loss: 0.0156 - accuracy: 0.9981 - val_loss: 0.5433 - val_accuracy: 0.8678\n",
      "Epoch 13/20\n",
      "15000/15000 [==============================] - 2s 116us/sample - loss: 0.0145 - accuracy: 0.9990 - val_loss: 0.5488 - val_accuracy: 0.8690\n",
      "Epoch 14/20\n",
      "15000/15000 [==============================] - 2s 124us/sample - loss: 0.0138 - accuracy: 0.9973 - val_loss: 0.5764 - val_accuracy: 0.8682\n",
      "Epoch 15/20\n",
      "15000/15000 [==============================] - 2s 129us/sample - loss: 0.0069 - accuracy: 0.9998 - val_loss: 0.6095 - val_accuracy: 0.8671\n",
      "Epoch 16/20\n",
      "15000/15000 [==============================] - 2s 131us/sample - loss: 0.0074 - accuracy: 0.9991 - val_loss: 0.6588 - val_accuracy: 0.8604\n",
      "Epoch 17/20\n",
      "15000/15000 [==============================] - 2s 133us/sample - loss: 0.0066 - accuracy: 0.9988 - val_loss: 0.6831 - val_accuracy: 0.8671\n",
      "Epoch 18/20\n",
      "15000/15000 [==============================] - 2s 132us/sample - loss: 0.0028 - accuracy: 0.9999 - val_loss: 0.7038 - val_accuracy: 0.8641\n",
      "Epoch 19/20\n",
      "15000/15000 [==============================] - 2s 133us/sample - loss: 0.0045 - accuracy: 0.9992 - val_loss: 0.7363 - val_accuracy: 0.8644\n",
      "Epoch 20/20\n",
      "15000/15000 [==============================] - 2s 114us/sample - loss: 0.0017 - accuracy: 0.9999 - val_loss: 0.7700 - val_accuracy: 0.8633\n"
     ]
    }
   ],
   "source": [
    "history = model.fit(partial_x_train, \n",
    "                    partial_y_train,\n",
    "                    epochs=20,\n",
    "                    batch_size=512,\n",
    "                    validation_data=(x_val, y_val))"
   ]
  },
  {
   "cell_type": "code",
   "execution_count": 71,
   "metadata": {},
   "outputs": [
    {
     "data": {
      "text/plain": [
       "dict_keys(['loss', 'accuracy', 'val_loss', 'val_accuracy'])"
      ]
     },
     "execution_count": 71,
     "metadata": {},
     "output_type": "execute_result"
    }
   ],
   "source": [
    "history_dict = history.history\n",
    "history_dict.keys()"
   ]
  },
  {
   "cell_type": "markdown",
   "metadata": {},
   "source": [
    "## Strata trenowania i walidacji"
   ]
  },
  {
   "cell_type": "code",
   "execution_count": null,
   "metadata": {},
   "outputs": [],
   "source": [
    "import matplotlib.pyplot as plt\n",
    "\n",
    "acc = history.history['accuracy']\n",
    "val_acc = history.history['val_accuracy']\n",
    "loss = history.history['loss']\n",
    "val_loss = history.history['val_loss']\n",
    "\n",
    "epochs = range(1, len(acc) + 1)"
   ]
  },
  {
   "cell_type": "code",
   "execution_count": 87,
   "metadata": {},
   "outputs": [
    {
     "data": {
      "image/png": "[encoded data removed]",
      "text/plain": [
       "<Figure size 720x576 with 1 Axes>"
      ]
     },
     "metadata": {
      "needs_background": "light"
     },
     "output_type": "display_data"
    }
   ],
   "source": [
    "plt.figure(figsize = (10, 8))\n",
    "\n",
    "plt.plot(epochs, loss, 'bo', label = 'Strata trenowania')\n",
    "plt.plot(epochs, val_loss, 'b', label = 'Strata walidacji')\n",
    "plt.title('Strata trenowania i walidacji')\n",
    "plt.xlabel('Epoki')\n",
    "plt.xticks(np.arange(1, 21))\n",
    "plt.ylabel('Strata')\n",
    "plt.legend()\n",
    "\n",
    "plt.show()"
   ]
  },
  {
   "cell_type": "code",
   "execution_count": 86,
   "metadata": {},
   "outputs": [
    {
     "data": {
      "image/png": "[encoded data removed]",
      "text/plain": [
       "<Figure size 720x576 with 1 Axes>"
      ]
     },
     "metadata": {
      "needs_background": "light"
     },
     "output_type": "display_data"
    }
   ],
   "source": [
    "plt.figure(figsize = (10, 8))\n",
    "\n",
    "plt.plot(epochs, acc, 'bo', label = 'Dokładność trenowania')\n",
    "plt.plot(epochs, val_acc, 'b', label = 'Dokładność walidacji')\n",
    "plt.title('Dokładność trenowania i walidacji')\n",
    "plt.xlabel('Epoki')\n",
    "plt.xticks(np.arange(1, 21))\n",
    "plt.ylabel('Dokładność')\n",
    "plt.legend()\n",
    "\n",
    "plt.show()"
   ]
  },
  {
   "cell_type": "markdown",
   "metadata": {},
   "source": [
    "## Ponowne uczenie"
   ]
  },
  {
   "cell_type": "code",
   "execution_count": 94,
   "metadata": {},
   "outputs": [],
   "source": [
    "model = models.Sequential()\n",
    "model.add(layers.Dense(16, activation='relu', input_shape = (x_train.shape[1],)))\n",
    "model.add(layers.Dense(16, activation='relu'))\n",
    "model.add(layers.Dense(1, activation='sigmoid'))"
   ]
  },
  {
   "cell_type": "code",
   "execution_count": 95,
   "metadata": {},
   "outputs": [],
   "source": [
    "model.compile(optimizer=optimizers.RMSprop(lr=0.001),\n",
    "             loss='binary_crossentropy',\n",
    "             metrics=['accuracy'])"
   ]
  },
  {
   "cell_type": "code",
   "execution_count": 92,
   "metadata": {},
   "outputs": [
    {
     "name": "stdout",
     "output_type": "stream",
     "text": [
      "Train on 25000 samples\n",
      "Epoch 1/4\n",
      "25000/25000 [==============================] - 6s 248us/sample - loss: 0.4663 - accuracy: 0.8158\n",
      "Epoch 2/4\n",
      "25000/25000 [==============================] - 2s 91us/sample - loss: 0.2643 - accuracy: 0.9092\n",
      "Epoch 3/4\n",
      "25000/25000 [==============================] - 2s 93us/sample - loss: 0.2019 - accuracy: 0.9281\n",
      "Epoch 4/4\n",
      "25000/25000 [==============================] - 2s 95us/sample - loss: 0.1679 - accuracy: 0.9404\n",
      "25000/25000 [==============================] - 7s 279us/sample - loss: 0.2923 - accuracy: 0.8847\n"
     ]
    }
   ],
   "source": [
    "model.fit(x_train, y_train, epochs=4, batch_size=512)\n",
    "results = model.evaluate(x_test, y_test)"
   ]
  },
  {
   "cell_type": "code",
   "execution_count": 93,
   "metadata": {},
   "outputs": [
    {
     "name": "stdout",
     "output_type": "stream",
     "text": [
      "[0.2922847771644592, 0.88472]\n"
     ]
    }
   ],
   "source": [
    "print(results)"
   ]
  }
 ],
 "metadata": {
  "kernelspec": {
   "display_name": "Python 3",
   "language": "python",
   "name": "python3"
  },
  "language_info": {
   "codemirror_mode": {
    "name": "ipython",
    "version": 3
   },
   "file_extension": ".py",
   "mimetype": "text/x-python",
   "name": "python",
   "nbconvert_exporter": "python",
   "pygments_lexer": "ipython3",
   "version": "3.7.1"
  }
 },
 "nbformat": 4,
 "nbformat_minor": 2
}
