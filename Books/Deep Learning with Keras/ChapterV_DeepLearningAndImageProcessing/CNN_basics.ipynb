{
 "cells": [
  {
   "cell_type": "markdown",
   "id": "radical-proxy",
   "metadata": {},
   "source": [
    "# Introduction to Convolutional Neural Networks"
   ]
  },
  {
   "cell_type": "code",
   "execution_count": 1,
   "id": "funny-chinese",
   "metadata": {},
   "outputs": [],
   "source": [
    "# Libraries\n",
    "import tensorflow as tf\n",
    "from tensorflow.keras import layers\n",
    "from tensorflow.keras import models\n",
    "from tensorflow.keras.datasets import mnist\n",
    "from tensorflow.keras.utils import to_categorical"
   ]
  },
  {
   "cell_type": "code",
   "execution_count": 2,
   "id": "representative-vulnerability",
   "metadata": {},
   "outputs": [
    {
     "name": "stdout",
     "output_type": "stream",
     "text": [
      "Num GPUs Available:  1\n"
     ]
    }
   ],
   "source": [
    "print(\"Num GPUs Available: \", len(tf.config.experimental.list_physical_devices('CPU')))"
   ]
  },
  {
   "cell_type": "markdown",
   "id": "effective-sunset",
   "metadata": {},
   "source": [
    "**ERROR** Failed to get convolution algorithm. This is probably because cuDNN failed to initialize, so try looking to see if a warning log message was printed above.\n",
    "\n",
    "**SOLUTION** \n",
    "\n",
    "1. `conda remove --force cudatoolkit`\n",
    "2. `conda remove --force cudnn`\n",
    "3. Below Config"
   ]
  },
  {
   "cell_type": "code",
   "execution_count": 3,
   "id": "violent-belize",
   "metadata": {},
   "outputs": [],
   "source": [
    "# Config\n",
    "config = tf.compat.v1.ConfigProto(allow_soft_placement=True)\n",
    "config.gpu_options.allow_growth = True\n",
    "sess = tf.compat.v1.Session(config=config)"
   ]
  },
  {
   "cell_type": "code",
   "execution_count": 23,
   "id": "smooth-spider",
   "metadata": {},
   "outputs": [],
   "source": [
    "# Basic Convolutional Neural Network \n",
    "input_shape = (28, 28, 1)\n",
    "filter_1 = 32\n",
    "filter_2_3 = 64\n",
    "fh, fw = (3, 3)\n",
    "mph, mpw = (2, 2)\n",
    "\n",
    "model = models.Sequential()\n",
    "model.add(layers.Conv2D(filter_1, (fh, fw), activation='relu', input_shape=input_shape))\n",
    "model.add(layers.MaxPooling2D(mph, mpw))\n",
    "model.add(layers.Conv2D(filter_2_3, (fh, fw), activation='relu'))\n",
    "model.add(layers.MaxPooling2D(mph, mpw))\n",
    "model.add(layers.Conv2D(filter_2_3, (fh, fw), activation='relu'))"
   ]
  },
  {
   "cell_type": "code",
   "execution_count": 24,
   "id": "based-thermal",
   "metadata": {},
   "outputs": [],
   "source": [
    "# Adding a classifer extending convolutional neural network\n",
    "fcl = 64\n",
    "output_layer = 10\n",
    "\n",
    "model.add(layers.Flatten())\n",
    "model.add(layers.Dense(fcl, activation='relu'))\n",
    "model.add(layers.Dense(output_layer, activation='softmax'))"
   ]
  },
  {
   "cell_type": "code",
   "execution_count": 25,
   "id": "gothic-bhutan",
   "metadata": {},
   "outputs": [
    {
     "name": "stdout",
     "output_type": "stream",
     "text": [
      "Model: \"sequential_3\"\n",
      "_________________________________________________________________\n",
      "Layer (type)                 Output Shape              Param #   \n",
      "=================================================================\n",
      "conv2d_9 (Conv2D)            (None, 26, 26, 32)        320       \n",
      "_________________________________________________________________\n",
      "max_pooling2d_6 (MaxPooling2 (None, 13, 13, 32)        0         \n",
      "_________________________________________________________________\n",
      "conv2d_10 (Conv2D)           (None, 11, 11, 64)        18496     \n",
      "_________________________________________________________________\n",
      "max_pooling2d_7 (MaxPooling2 (None, 5, 5, 64)          0         \n",
      "_________________________________________________________________\n",
      "conv2d_11 (Conv2D)           (None, 3, 3, 64)          36928     \n",
      "_________________________________________________________________\n",
      "flatten_3 (Flatten)          (None, 576)               0         \n",
      "_________________________________________________________________\n",
      "dense_6 (Dense)              (None, 64)                36928     \n",
      "_________________________________________________________________\n",
      "dense_7 (Dense)              (None, 10)                650       \n",
      "=================================================================\n",
      "Total params: 93,322\n",
      "Trainable params: 93,322\n",
      "Non-trainable params: 0\n",
      "_________________________________________________________________\n"
     ]
    }
   ],
   "source": [
    "model.summary()"
   ]
  },
  {
   "cell_type": "markdown",
   "id": "asian-wireless",
   "metadata": {},
   "source": [
    "**Model Summary Explanation**"
   ]
  },
  {
   "cell_type": "markdown",
   "id": "intensive-novelty",
   "metadata": {},
   "source": [
    "1. Input Shape: (h x w x d) = (28, 28, 1) (Height, Width, Dimension)\n",
    "2. Conv2D: 32 Filters with (fh x fw x d) = (3 x 3 x 1) Shape. Output a volume dimension (h - fh + 1) x (w - fw + 1) x 1"
   ]
  },
  {
   "cell_type": "code",
   "execution_count": 16,
   "id": "tested-geometry",
   "metadata": {},
   "outputs": [
    {
     "name": "stdout",
     "output_type": "stream",
     "text": [
      "Conv2D Output Shape: 26, 26, 1\n"
     ]
    }
   ],
   "source": [
    "print(f'Conv2D Output Shape: ({28 - 3 + 1}, {28 - 3 + 1}, {1})')"
   ]
  },
  {
   "cell_type": "code",
   "execution_count": null,
   "id": "worth-degree",
   "metadata": {},
   "outputs": [],
   "source": []
  },
  {
   "cell_type": "code",
   "execution_count": 7,
   "id": "single-elite",
   "metadata": {},
   "outputs": [],
   "source": [
    "# Download data\n",
    "(train_images, train_labels), (test_images, test_labels) = mnist.load_data() "
   ]
  },
  {
   "cell_type": "code",
   "execution_count": 8,
   "id": "exterior-metro",
   "metadata": {},
   "outputs": [],
   "source": [
    "# Data preparation\n",
    "train_images = train_images.reshape((60000, 28, 28, 1))\n",
    "train_images = train_images.astype('float32') / 255\n",
    "\n",
    "test_images = test_images.reshape((10000, 28, 28, 1))\n",
    "test_images = test_images.astype('float32') / 255\n",
    "\n",
    "train_labels = to_categorical(train_labels)\n",
    "test_labels = to_categorical(test_labels)"
   ]
  },
  {
   "cell_type": "code",
   "execution_count": 9,
   "id": "indoor-swiss",
   "metadata": {},
   "outputs": [
    {
     "name": "stdout",
     "output_type": "stream",
     "text": [
      "Epoch 1/5\n",
      "938/938 [==============================] - 15s 16ms/step - loss: 0.1813 - accuracy: 0.9436\n",
      "Epoch 2/5\n",
      "938/938 [==============================] - 16s 17ms/step - loss: 0.0485 - accuracy: 0.9849\n",
      "Epoch 3/5\n",
      "938/938 [==============================] - 14s 15ms/step - loss: 0.0335 - accuracy: 0.9897\n",
      "Epoch 4/5\n",
      "938/938 [==============================] - 15s 16ms/step - loss: 0.0245 - accuracy: 0.9925\n",
      "Epoch 5/5\n",
      "938/938 [==============================] - 15s 16ms/step - loss: 0.0199 - accuracy: 0.9941\n"
     ]
    },
    {
     "data": {
      "text/plain": [
       "<tensorflow.python.keras.callbacks.History at 0x7f9f700da4f0>"
      ]
     },
     "execution_count": 9,
     "metadata": {},
     "output_type": "execute_result"
    }
   ],
   "source": [
    "# Modelling\n",
    "model.compile(optimizer='rmsprop', loss='categorical_crossentropy', metrics=['accuracy'])\n",
    "model.fit(train_images, train_labels, epochs=5, batch_size=64)"
   ]
  },
  {
   "cell_type": "code",
   "execution_count": 10,
   "id": "annoying-steering",
   "metadata": {},
   "outputs": [
    {
     "name": "stdout",
     "output_type": "stream",
     "text": [
      "313/313 [==============================] - 1s 3ms/step - loss: 0.0358 - accuracy: 0.9906\n"
     ]
    }
   ],
   "source": [
    "# Model assesment\n",
    "test_loss, test_acc = model.evaluate(test_images, test_labels)"
   ]
  },
  {
   "cell_type": "code",
   "execution_count": 12,
   "id": "dated-phase",
   "metadata": {},
   "outputs": [
    {
     "data": {
      "text/plain": [
       "36928"
      ]
     },
     "execution_count": 12,
     "metadata": {},
     "output_type": "execute_result"
    }
   ],
   "source": []
  }
 ],
 "metadata": {
  "kernelspec": {
   "display_name": "DL_with_Keras",
   "language": "python",
   "name": "dl_with_keras"
  },
  "language_info": {
   "codemirror_mode": {
    "name": "ipython",
    "version": 3
   },
   "file_extension": ".py",
   "mimetype": "text/x-python",
   "name": "python",
   "nbconvert_exporter": "python",
   "pygments_lexer": "ipython3",
   "version": "3.8.5"
  }
 },
 "nbformat": 4,
 "nbformat_minor": 5
}
