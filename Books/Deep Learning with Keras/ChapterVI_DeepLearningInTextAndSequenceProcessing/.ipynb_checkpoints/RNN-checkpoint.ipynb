{
 "cells": [
  {
   "cell_type": "markdown",
   "metadata": {},
   "source": [
    "# Introduction"
   ]
  },
  {
   "cell_type": "markdown",
   "metadata": {},
   "source": [
    "**Pseudo recurrent neural network**\n",
    "```\n",
    "state_t = 0\n",
    "for input_t in input_sequence:\n",
    "    output_t = f(input_t, state_t)\n",
    "    state_t = output_t\n",
    "``` "
   ]
  },
  {
   "cell_type": "markdown",
   "metadata": {},
   "source": [
    "**Detailed psuedo recurrent neural network**\n",
    "```\n",
    "state_t = 0\n",
    "for input_t in input_sequence:\n",
    "    output_t = activation(dot(W, input_t) + dot(U, state_t) + b)\n",
    "    state_t = output_t\n",
    "```"
   ]
  },
  {
   "cell_type": "markdown",
   "metadata": {},
   "source": [
    "![Source](graphics/Recurrent_neural_network_unfold.svg)\n"
   ]
  },
  {
   "cell_type": "markdown",
   "metadata": {},
   "source": [
    "Source: https://en.wikipedia.org/wiki/Recurrent_neural_network"
   ]
  },
  {
   "cell_type": "markdown",
   "metadata": {},
   "source": [
    "# Implementation Recurrent Neural Network"
   ]
  },
  {
   "cell_type": "code",
   "execution_count": 1,
   "metadata": {},
   "outputs": [],
   "source": [
    "import numpy as np\n",
    "\n",
    "timesteps = 100 # number of steps for input sequence\n",
    "input_features = 32 # number of dimensions on feature input space\n",
    "output_features = 64 # number of dimensions on feature output space\n",
    "\n",
    "inputs = np.random.random((timesteps, input_features)) # input data, random noise"
   ]
  },
  {
   "cell_type": "code",
   "execution_count": 2,
   "metadata": {},
   "outputs": [
    {
     "name": "stdout",
     "output_type": "stream",
     "text": [
      "Shape of input data: \n",
      "(100, 32)\n",
      "\n",
      "Input data: \n",
      "\n",
      "[[0.73752415 0.82196336 0.08885815 ... 0.68521756 0.94711711 0.32733105]\n",
      " [0.01623289 0.77760727 0.50966765 ... 0.78077911 0.34533328 0.15938247]\n",
      " [0.39460298 0.53743646 0.13849257 ... 0.95476629 0.27385847 0.57717209]\n",
      " ...\n",
      " [0.73026553 0.6391138  0.82952548 ... 0.34258851 0.26500647 0.86173425]\n",
      " [0.80949437 0.01428104 0.0255293  ... 0.23685345 0.80433783 0.90146   ]\n",
      " [0.43141677 0.59922729 0.04161018 ... 0.32171516 0.73358444 0.17211797]]\n"
     ]
    }
   ],
   "source": [
    "print(\"Shape of input data: \")\n",
    "print(inputs.shape)\n",
    "print(\"\\nInput data: \\n\")\n",
    "print(inputs)"
   ]
  },
  {
   "cell_type": "code",
   "execution_count": 3,
   "metadata": {},
   "outputs": [],
   "source": [
    "state_t = np.zeros((output_features)) # initial state, zero matrix"
   ]
  },
  {
   "cell_type": "code",
   "execution_count": 4,
   "metadata": {},
   "outputs": [
    {
     "name": "stdout",
     "output_type": "stream",
     "text": [
      "Shape of initial state vector: \n",
      "(64,)\n",
      "\n",
      "Initial state vector: \n",
      "\n",
      "[0. 0. 0. 0. 0. 0. 0. 0. 0. 0. 0. 0. 0. 0. 0. 0. 0. 0. 0. 0. 0. 0. 0. 0.\n",
      " 0. 0. 0. 0. 0. 0. 0. 0. 0. 0. 0. 0. 0. 0. 0. 0. 0. 0. 0. 0. 0. 0. 0. 0.\n",
      " 0. 0. 0. 0. 0. 0. 0. 0. 0. 0. 0. 0. 0. 0. 0. 0.]\n"
     ]
    }
   ],
   "source": [
    "print(\"Shape of initial state vector: \")\n",
    "print(state_t.shape)\n",
    "print(\"\\nInitial state vector: \\n\")\n",
    "print(state_t)"
   ]
  },
  {
   "cell_type": "code",
   "execution_count": 5,
   "metadata": {},
   "outputs": [],
   "source": [
    "# Create random matrix of weights\n",
    "W = np.random.random((output_features, input_features))\n",
    "U = np.random.random((output_features, output_features))\n",
    "b = np.random.random((output_features,)) "
   ]
  },
  {
   "cell_type": "code",
   "execution_count": 6,
   "metadata": {},
   "outputs": [
    {
     "name": "stdout",
     "output_type": "stream",
     "text": [
      "Shape of weights W: \n",
      "(64, 32)\n",
      "\n",
      "W matrix: \n",
      "\n",
      "[[0.11018478 0.83331042 0.74296908 ... 0.08922794 0.80801022 0.9015164 ]\n",
      " [0.35886402 0.84245309 0.98599626 ... 0.72065081 0.15009091 0.52413193]\n",
      " [0.40674348 0.77720643 0.74235932 ... 0.29829819 0.15787188 0.0744834 ]\n",
      " ...\n",
      " [0.11684982 0.81680823 0.90180952 ... 0.78624114 0.49216006 0.50849748]\n",
      " [0.87235035 0.97195381 0.60760999 ... 0.96043664 0.01931579 0.51844252]\n",
      " [0.71183591 0.89001426 0.85608133 ... 0.52071584 0.72699693 0.25189108]]\n"
     ]
    }
   ],
   "source": [
    "print(\"Shape of weights W: \")\n",
    "print(W.shape)\n",
    "print(\"\\nW matrix: \\n\")\n",
    "print(W)"
   ]
  },
  {
   "cell_type": "code",
   "execution_count": 7,
   "metadata": {
    "scrolled": true
   },
   "outputs": [
    {
     "name": "stdout",
     "output_type": "stream",
     "text": [
      "Shape of elements U: \n",
      "(64, 64)\n",
      "\n",
      "U matrix: \n",
      "\n",
      "[[0.05452948 0.25157593 0.25582059 ... 0.68602907 0.92338566 0.5759734 ]\n",
      " [0.05192449 0.76649047 0.24046675 ... 0.19024656 0.91936598 0.33166666]\n",
      " [0.44681163 0.8266965  0.7309924  ... 0.95486625 0.44601925 0.44724747]\n",
      " ...\n",
      " [0.06252296 0.91047695 0.26203937 ... 0.83629723 0.59740722 0.65056064]\n",
      " [0.92721528 0.66291974 0.43342342 ... 0.10222801 0.30295558 0.19484824]\n",
      " [0.95586178 0.11299348 0.12619374 ... 0.49253344 0.95112149 0.90981122]]\n"
     ]
    }
   ],
   "source": [
    "print(\"Shape of elements U: \")\n",
    "print(U.shape)\n",
    "print(\"\\nU matrix: \\n\")\n",
    "print(U)"
   ]
  },
  {
   "cell_type": "code",
   "execution_count": 8,
   "metadata": {},
   "outputs": [
    {
     "name": "stdout",
     "output_type": "stream",
     "text": [
      "Shape of weights b: \n",
      "(64,)\n",
      "\n",
      "b matrix: \n",
      "\n",
      "[0.55569723 0.78305267 0.31126876 0.598184   0.02653608 0.90333934\n",
      " 0.86634518 0.6983843  0.99348046 0.55590555 0.15145583 0.35251451\n",
      " 0.79915838 0.77633355 0.79870726 0.27270853 0.48836821 0.5575725\n",
      " 0.15182646 0.20391448 0.15330303 0.90827579 0.80098361 0.20884121\n",
      " 0.29915035 0.2281423  0.76199014 0.93929598 0.54066745 0.55863425\n",
      " 0.13841031 0.89357523 0.63936274 0.70739926 0.14101954 0.17441228\n",
      " 0.79897369 0.0915916  0.96145546 0.94708096 0.59271529 0.44778169\n",
      " 0.07395631 0.28731989 0.29167129 0.0611262  0.71450224 0.25969887\n",
      " 0.44960817 0.98465077 0.20868061 0.61454055 0.91773882 0.01141308\n",
      " 0.6435052  0.96593668 0.33680116 0.71842728 0.99168441 0.65923844\n",
      " 0.75255831 0.1874255  0.27730224 0.11852507]\n"
     ]
    }
   ],
   "source": [
    "print(\"Shape of weights b: \")\n",
    "print(b.shape)\n",
    "print(\"\\nb matrix: \\n\")\n",
    "print(b)"
   ]
  },
  {
   "cell_type": "code",
   "execution_count": 9,
   "metadata": {},
   "outputs": [],
   "source": [
    "successive_outputs = []\n",
    "for input_t in inputs:\n",
    "    output_t = np.tanh(np.dot(W, input_t) + np.dot(U, state_t) + b) # activation function (input data + last state)\n",
    "    \n",
    "    successive_outputs.append(output_t) # save output into list\n",
    "    \n",
    "    state_t = output_t # update of state of network\n",
    "    \n",
    "final_output_sequence = np.concatenate(successive_outputs, axis=0) # output (timesteps, output_features)"
   ]
  },
  {
   "cell_type": "code",
   "execution_count": 10,
   "metadata": {},
   "outputs": [
    {
     "name": "stdout",
     "output_type": "stream",
     "text": [
      "Final output sequence shape: \n",
      "(6400,)\n",
      "\n",
      "Final output sequence: \n",
      "[0.99999997 0.99999999 0.99999992 ... 1.         1.         1.        ]\n"
     ]
    }
   ],
   "source": [
    "print(\"Final output sequence shape: \")\n",
    "print(final_output_sequence.shape)\n",
    "print(\"\\nFinal output sequence: \")\n",
    "print(final_output_sequence)"
   ]
  },
  {
   "cell_type": "markdown",
   "metadata": {},
   "source": [
    "# Recurrent Layers in Keras"
   ]
  },
  {
   "cell_type": "code",
   "execution_count": 15,
   "metadata": {},
   "outputs": [],
   "source": [
    "from tensorflow.keras.models import Sequential\n",
    "from tensorflow.keras.layers import Embedding, SimpleRNN"
   ]
  },
  {
   "cell_type": "code",
   "execution_count": 17,
   "metadata": {},
   "outputs": [
    {
     "name": "stdout",
     "output_type": "stream",
     "text": [
      "Model: \"sequential_4\"\n",
      "_________________________________________________________________\n",
      "Layer (type)                 Output Shape              Param #   \n",
      "=================================================================\n",
      "embedding_4 (Embedding)      (None, None, 32)          320000    \n",
      "_________________________________________________________________\n",
      "simple_rnn_4 (SimpleRNN)     (None, None, 32)          2080      \n",
      "_________________________________________________________________\n",
      "simple_rnn_5 (SimpleRNN)     (None, None, 32)          2080      \n",
      "_________________________________________________________________\n",
      "simple_rnn_6 (SimpleRNN)     (None, None, 32)          2080      \n",
      "_________________________________________________________________\n",
      "simple_rnn_7 (SimpleRNN)     (None, 32)                2080      \n",
      "=================================================================\n",
      "Total params: 328,320\n",
      "Trainable params: 328,320\n",
      "Non-trainable params: 0\n",
      "_________________________________________________________________\n"
     ]
    }
   ],
   "source": [
    "model = Sequential()\n",
    "model.add(Embedding(10000, 32))\n",
    "model.add(SimpleRNN(32, return_sequences=True))\n",
    "model.add(SimpleRNN(32, return_sequences=True))\n",
    "model.add(SimpleRNN(32, return_sequences=True))\n",
    "model.add(SimpleRNN(32))\n",
    "model.summary()"
   ]
  },
  {
   "cell_type": "code",
   "execution_count": 18,
   "metadata": {},
   "outputs": [],
   "source": [
    "from tensorflow.keras.datasets import imdb\n",
    "from tensorflow.keras.preprocessing import sequence"
   ]
  },
  {
   "cell_type": "code",
   "execution_count": 19,
   "metadata": {},
   "outputs": [],
   "source": [
    "max_features = 10000 # number of word like features\n",
    "maxlen = 500 # cut review to that number of word depends on max_features number\n",
    "batch_size = 31"
   ]
  },
  {
   "cell_type": "code",
   "execution_count": 20,
   "metadata": {},
   "outputs": [
    {
     "name": "stdout",
     "output_type": "stream",
     "text": [
      "Data loading...\n",
      "Downloading data from https://storage.googleapis.com/tensorflow/tf-keras-datasets/imdb.npz\n",
      "17465344/17464789 [==============================] - 2s 0us/step\n"
     ]
    },
    {
     "name": "stderr",
     "output_type": "stream",
     "text": [
      "/home/piotr/anaconda3/envs/DL_with_Keras/lib/python3.8/site-packages/tensorflow/python/keras/datasets/imdb.py:155: VisibleDeprecationWarning: Creating an ndarray from ragged nested sequences (which is a list-or-tuple of lists-or-tuples-or ndarrays with different lengths or shapes) is deprecated. If you meant to do this, you must specify 'dtype=object' when creating the ndarray\n",
      "  x_train, y_train = np.array(xs[:idx]), np.array(labels[:idx])\n",
      "/home/piotr/anaconda3/envs/DL_with_Keras/lib/python3.8/site-packages/tensorflow/python/keras/datasets/imdb.py:156: VisibleDeprecationWarning: Creating an ndarray from ragged nested sequences (which is a list-or-tuple of lists-or-tuples-or ndarrays with different lengths or shapes) is deprecated. If you meant to do this, you must specify 'dtype=object' when creating the ndarray\n",
      "  x_test, y_test = np.array(xs[idx:]), np.array(labels[idx:])\n"
     ]
    },
    {
     "name": "stdout",
     "output_type": "stream",
     "text": [
      "25000 training sequence\n",
      "25000 testing sequence\n",
      "Sequence (set x time)\n",
      "Shape of input_train object: (25000, 500)\n",
      "Shape of input_test object: (25000, 500)\n"
     ]
    }
   ],
   "source": [
    "# Data preprocessing\n",
    "print('Data loading...')\n",
    "\n",
    "(input_train, y_train), (input_test, y_test) = imdb.load_data(num_words=max_features)\n",
    "\n",
    "print(len(input_train), 'training sequence')\n",
    "print(len(input_test), 'testing sequence')\n",
    "print('Sequence (set x time)')\n",
    "\n",
    "input_train = sequence.pad_sequences(input_train, maxlen=maxlen)\n",
    "input_test = sequence.pad_sequences(input_test, maxlen=maxlen)\n",
    "\n",
    "print('Shape of input_train object:', input_train.shape)\n",
    "print('Shape of input_test object:', input_test.shape)"
   ]
  },
  {
   "cell_type": "code",
   "execution_count": 23,
   "metadata": {},
   "outputs": [
    {
     "name": "stdout",
     "output_type": "stream",
     "text": [
      "Epoch 1/10\n",
      "157/157 [==============================] - 40s 258ms/step - loss: 0.6046 - acc: 0.6719 - val_loss: 0.4901 - val_acc: 0.8038\n",
      "Epoch 2/10\n",
      "157/157 [==============================] - 39s 248ms/step - loss: 0.3881 - acc: 0.8397 - val_loss: 0.3639 - val_acc: 0.8510\n",
      "Epoch 3/10\n",
      "157/157 [==============================] - 39s 246ms/step - loss: 0.3050 - acc: 0.8795 - val_loss: 0.3676 - val_acc: 0.8454\n",
      "Epoch 4/10\n",
      "157/157 [==============================] - 39s 251ms/step - loss: 0.2421 - acc: 0.9064 - val_loss: 0.5202 - val_acc: 0.7416\n",
      "Epoch 5/10\n",
      "157/157 [==============================] - 39s 250ms/step - loss: 0.1831 - acc: 0.9331 - val_loss: 0.3982 - val_acc: 0.8424\n",
      "Epoch 6/10\n",
      "157/157 [==============================] - 39s 249ms/step - loss: 0.1381 - acc: 0.9526 - val_loss: 0.4608 - val_acc: 0.8274\n",
      "Epoch 7/10\n",
      "157/157 [==============================] - 40s 254ms/step - loss: 0.0991 - acc: 0.9673 - val_loss: 0.4808 - val_acc: 0.8166\n",
      "Epoch 8/10\n",
      "157/157 [==============================] - 39s 250ms/step - loss: 0.0739 - acc: 0.9757 - val_loss: 0.6332 - val_acc: 0.7672\n",
      "Epoch 9/10\n",
      "157/157 [==============================] - 41s 264ms/step - loss: 0.0471 - acc: 0.9860 - val_loss: 0.5016 - val_acc: 0.8482\n",
      "Epoch 10/10\n",
      "157/157 [==============================] - 42s 268ms/step - loss: 0.0291 - acc: 0.9918 - val_loss: 0.6958 - val_acc: 0.8176\n"
     ]
    }
   ],
   "source": [
    "# Model training\n",
    "\n",
    "from tensorflow.keras.layers import Dense\n",
    "\n",
    "model = Sequential()\n",
    "model.add(Embedding(max_features, 32))\n",
    "model.add(SimpleRNN(32))\n",
    "model.add(Dense(1, activation='sigmoid'))\n",
    "\n",
    "model.compile(optimizer='rmsprop', loss='binary_crossentropy', metrics=['acc'])\n",
    "history=model.fit(input_train, y_train, epochs=10, batch_size=128, validation_split=0.2)"
   ]
  },
  {
   "cell_type": "code",
   "execution_count": 24,
   "metadata": {},
   "outputs": [
    {
     "name": "stdout",
     "output_type": "stream",
     "text": [
      "Num GPUs Available:  1\n"
     ]
    }
   ],
   "source": [
    "import tensorflow as tf\n",
    "\n",
    "print(\"Num GPUs Available: \", len(tf.config.experimental.list_physical_devices('GPU')))"
   ]
  },
  {
   "cell_type": "code",
   "execution_count": null,
   "metadata": {},
   "outputs": [],
   "source": []
  }
 ],
 "metadata": {
  "hide_input": false,
  "kernelspec": {
   "display_name": "DL_with_Keras",
   "language": "python",
   "name": "dl_with_keras"
  },
  "language_info": {
   "codemirror_mode": {
    "name": "ipython",
    "version": 3
   },
   "file_extension": ".py",
   "mimetype": "text/x-python",
   "name": "python",
   "nbconvert_exporter": "python",
   "pygments_lexer": "ipython3",
   "version": "3.8.5"
  },
  "toc": {
   "base_numbering": 1,
   "nav_menu": {},
   "number_sections": true,
   "sideBar": true,
   "skip_h1_title": false,
   "title_cell": "Table of Contents",
   "title_sidebar": "Contents",
   "toc_cell": false,
   "toc_position": {},
   "toc_section_display": true,
   "toc_window_display": false
  }
 },
 "nbformat": 4,
 "nbformat_minor": 4
}
