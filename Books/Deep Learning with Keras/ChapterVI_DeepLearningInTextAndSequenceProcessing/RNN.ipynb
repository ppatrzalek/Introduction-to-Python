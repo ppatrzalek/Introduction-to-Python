{
 "cells": [
  {
   "cell_type": "markdown",
   "metadata": {},
   "source": [
    "# Introduction"
   ]
  },
  {
   "cell_type": "markdown",
   "metadata": {},
   "source": [
    "**Pseudo recurrent neural network**\n",
    "```\n",
    "state_t = 0\n",
    "for input_t in input_sequence:\n",
    "    output_t = f(input_t, state_t)\n",
    "    state_t = output_t\n",
    "``` "
   ]
  },
  {
   "cell_type": "markdown",
   "metadata": {},
   "source": [
    "**Detailed psuedo recurrent neural network**\n",
    "```\n",
    "state_t = 0\n",
    "for input_t in input_sequence:\n",
    "    output_t = activation(dot(W, input_t) + dot(U, state_t) + b)\n",
    "    state_t = output_t\n",
    "```"
   ]
  },
  {
   "cell_type": "markdown",
   "metadata": {},
   "source": [
    "![Source](graphics/Recurrent_neural_network_unfold.svg)\n"
   ]
  },
  {
   "cell_type": "markdown",
   "metadata": {},
   "source": [
    "Source: https://en.wikipedia.org/wiki/Recurrent_neural_network"
   ]
  },
  {
   "cell_type": "markdown",
   "metadata": {},
   "source": [
    "# Implementation Recurrent Neural Network"
   ]
  },
  {
   "cell_type": "code",
   "execution_count": 35,
   "metadata": {},
   "outputs": [],
   "source": [
    "import numpy as np\n",
    "\n",
    "timesteps = 100 # number of steps for input sequence\n",
    "input_features = 32 # number of dimensions on feature input space\n",
    "output_features = 64 # number of dimensions on feature output space\n",
    "\n",
    "inputs = np.random.random((timesteps, input_features)) # input data, random noise"
   ]
  },
  {
   "cell_type": "code",
   "execution_count": 36,
   "metadata": {},
   "outputs": [
    {
     "name": "stdout",
     "output_type": "stream",
     "text": [
      "Shape of input data: \n",
      "(100, 32)\n",
      "\n",
      "Input data: \n",
      "\n",
      "[[0.50664549 0.80850165 0.02592318 ... 0.79763356 0.03051904 0.12061937]\n",
      " [0.61857829 0.50594804 0.24671785 ... 0.16377901 0.51644901 0.62197109]\n",
      " [0.82588365 0.16564167 0.30823585 ... 0.7096336  0.50325112 0.9182583 ]\n",
      " ...\n",
      " [0.68773878 0.6753528  0.81181265 ... 0.30783716 0.32307416 0.48822811]\n",
      " [0.90843327 0.55726823 0.02777599 ... 0.35106424 0.04195639 0.10353145]\n",
      " [0.36413176 0.7021508  0.64574577 ... 0.16124448 0.13155526 0.73410429]]\n"
     ]
    }
   ],
   "source": [
    "print(\"Shape of input data: \")\n",
    "print(inputs.shape)\n",
    "print(\"\\nInput data: \\n\")\n",
    "print(inputs)"
   ]
  },
  {
   "cell_type": "code",
   "execution_count": 37,
   "metadata": {},
   "outputs": [],
   "source": [
    "state_t = np.zeros((output_features)) # initial state, zero matrix"
   ]
  },
  {
   "cell_type": "code",
   "execution_count": 38,
   "metadata": {},
   "outputs": [
    {
     "name": "stdout",
     "output_type": "stream",
     "text": [
      "Shape of initial state vector: \n",
      "(64,)\n",
      "\n",
      "Initial state vector: \n",
      "\n",
      "[0. 0. 0. 0. 0. 0. 0. 0. 0. 0. 0. 0. 0. 0. 0. 0. 0. 0. 0. 0. 0. 0. 0. 0.\n",
      " 0. 0. 0. 0. 0. 0. 0. 0. 0. 0. 0. 0. 0. 0. 0. 0. 0. 0. 0. 0. 0. 0. 0. 0.\n",
      " 0. 0. 0. 0. 0. 0. 0. 0. 0. 0. 0. 0. 0. 0. 0. 0.]\n"
     ]
    }
   ],
   "source": [
    "print(\"Shape of initial state vector: \")\n",
    "print(state_t.shape)\n",
    "print(\"\\nInitial state vector: \\n\")\n",
    "print(state_t)"
   ]
  },
  {
   "cell_type": "code",
   "execution_count": 39,
   "metadata": {},
   "outputs": [],
   "source": [
    "# Create random matrix of weights\n",
    "W = np.random.random((output_features, input_features))\n",
    "U = np.random.random((output_features, output_features))\n",
    "b = np.random.random((output_features,)) "
   ]
  },
  {
   "cell_type": "code",
   "execution_count": 40,
   "metadata": {},
   "outputs": [
    {
     "name": "stdout",
     "output_type": "stream",
     "text": [
      "Shape of weights W: \n",
      "(64, 32)\n",
      "\n",
      "W matrix: \n",
      "\n",
      "[[0.0678357  0.46348877 0.21152029 ... 0.85768194 0.15608383 0.99510494]\n",
      " [0.56807481 0.73544179 0.71322731 ... 0.08893282 0.65735241 0.65985325]\n",
      " [0.40733772 0.83469884 0.3278955  ... 0.72002916 0.87122418 0.65971605]\n",
      " ...\n",
      " [0.27768194 0.07012403 0.2416868  ... 0.26276819 0.87512223 0.5507903 ]\n",
      " [0.72668291 0.11321048 0.62985562 ... 0.49773913 0.04911251 0.28608366]\n",
      " [0.6908937  0.58455301 0.58794456 ... 0.08779987 0.83502355 0.15424491]]\n"
     ]
    }
   ],
   "source": [
    "print(\"Shape of weights W: \")\n",
    "print(W.shape)\n",
    "print(\"\\nW matrix: \\n\")\n",
    "print(W)"
   ]
  },
  {
   "cell_type": "code",
   "execution_count": 41,
   "metadata": {
    "scrolled": true
   },
   "outputs": [
    {
     "name": "stdout",
     "output_type": "stream",
     "text": [
      "Shape of weights U: \n",
      "(64, 64)\n",
      "\n",
      "U matrix: \n",
      "\n",
      "[[0.83721567 0.83859923 0.22889456 ... 0.00257003 0.37700257 0.7408894 ]\n",
      " [0.93054173 0.45803742 0.05173171 ... 0.65906123 0.19452242 0.13613978]\n",
      " [0.04578192 0.34817375 0.23983992 ... 0.18515472 0.80448621 0.99612873]\n",
      " ...\n",
      " [0.50785875 0.48230155 0.4999938  ... 0.57823354 0.71932863 0.29331339]\n",
      " [0.59578461 0.79735866 0.51861644 ... 0.69573949 0.57406515 0.29909527]\n",
      " [0.9576623  0.47996722 0.22601694 ... 0.01822331 0.65496598 0.47670435]]\n"
     ]
    }
   ],
   "source": [
    "print(\"Shape of weights U: \")\n",
    "print(U.shape)\n",
    "print(\"\\nU matrix: \\n\")\n",
    "print(U)"
   ]
  },
  {
   "cell_type": "code",
   "execution_count": 42,
   "metadata": {},
   "outputs": [
    {
     "name": "stdout",
     "output_type": "stream",
     "text": [
      "Shape of weights b: \n",
      "(64,)\n",
      "\n",
      "b matrix: \n",
      "\n",
      "[0.294544   0.81964081 0.31201117 0.32103263 0.52824241 0.97343237\n",
      " 0.09311463 0.80968171 0.44313412 0.52797024 0.20678203 0.42667426\n",
      " 0.64944211 0.58080506 0.36099254 0.48182056 0.20020202 0.57687166\n",
      " 0.89623006 0.35162289 0.167279   0.67268073 0.0315792  0.26224251\n",
      " 0.6656272  0.50091644 0.71091238 0.68843753 0.38791579 0.37051008\n",
      " 0.77824711 0.91399297 0.30961099 0.5004754  0.81615104 0.20704254\n",
      " 0.00474555 0.82964023 0.59659539 0.14404216 0.26929021 0.48648178\n",
      " 0.5787796  0.69543523 0.86488099 0.35685373 0.73791504 0.61645997\n",
      " 0.51835416 0.16062923 0.14273781 0.92726755 0.36775203 0.53083216\n",
      " 0.59058026 0.66015005 0.68367643 0.00588836 0.41000093 0.44867362\n",
      " 0.2875626  0.95783026 0.46963439 0.92993231]\n"
     ]
    }
   ],
   "source": [
    "print(\"Shape of weights b: \")\n",
    "print(b.shape)\n",
    "print(\"\\nb matrix: \\n\")\n",
    "print(b)"
   ]
  },
  {
   "cell_type": "code",
   "execution_count": 43,
   "metadata": {},
   "outputs": [],
   "source": [
    "successive_outputs = []\n",
    "for input_t in inputs:\n",
    "    output_t = np.tanh(np.dot(W, input_t) + np.dot(U, state_t) + b) # activation function (input data + last state)\n",
    "    \n",
    "    successive_outputs.append(output_t) # save output into list\n",
    "    \n",
    "    state_t = output_t # update of state of network\n",
    "    \n",
    "final_output_sequence = np.concatenate(successive_outputs, axis=0) # output (timesteps, output_features)"
   ]
  },
  {
   "cell_type": "code",
   "execution_count": 44,
   "metadata": {},
   "outputs": [
    {
     "name": "stdout",
     "output_type": "stream",
     "text": [
      "Final output sequence shape: \n",
      "(6400,)\n",
      "\n",
      "Final output sequence: \n",
      "[0.99999985 0.99999925 0.99999989 ... 1.         1.         1.        ]\n"
     ]
    }
   ],
   "source": [
    "print(\"Final output sequence shape: \")\n",
    "print(final_output_sequence.shape)\n",
    "print(\"\\nFinal output sequence: \")\n",
    "print(final_output_sequence)"
   ]
  },
  {
   "cell_type": "markdown",
   "metadata": {},
   "source": [
    "# Recurrent Layers in Keras"
   ]
  },
  {
   "cell_type": "code",
   "execution_count": null,
   "metadata": {},
   "outputs": [],
   "source": []
  }
 ],
 "metadata": {
  "hide_input": false,
  "kernelspec": {
   "display_name": "Python 3",
   "language": "python",
   "name": "python3"
  },
  "language_info": {
   "codemirror_mode": {
    "name": "ipython",
    "version": 3
   },
   "file_extension": ".py",
   "mimetype": "text/x-python",
   "name": "python",
   "nbconvert_exporter": "python",
   "pygments_lexer": "ipython3",
   "version": "3.7.1"
  },
  "toc": {
   "base_numbering": 1,
   "nav_menu": {},
   "number_sections": true,
   "sideBar": true,
   "skip_h1_title": false,
   "title_cell": "Table of Contents",
   "title_sidebar": "Contents",
   "toc_cell": false,
   "toc_position": {},
   "toc_section_display": true,
   "toc_window_display": false
  }
 },
 "nbformat": 4,
 "nbformat_minor": 4
}
