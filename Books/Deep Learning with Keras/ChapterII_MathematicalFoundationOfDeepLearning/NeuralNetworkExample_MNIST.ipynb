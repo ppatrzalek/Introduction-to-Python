{
 "cells": [
  {
   "cell_type": "markdown",
   "metadata": {},
   "source": [
    "## First Example of Neural Network"
   ]
  },
  {
   "cell_type": "markdown",
   "metadata": {},
   "source": [
    "#### Biblioteki"
   ]
  },
  {
   "cell_type": "code",
   "execution_count": 1,
   "metadata": {},
   "outputs": [
    {
     "name": "stderr",
     "output_type": "stream",
     "text": [
      "Using TensorFlow backend.\n"
     ]
    }
   ],
   "source": [
    "from keras.datasets import mnist\n",
    "from keras import models\n",
    "from keras import layers\n",
    "from keras.utils import to_categorical\n",
    "import numpy as np"
   ]
  },
  {
   "cell_type": "markdown",
   "metadata": {},
   "source": [
    "### Pierwszy przykład sieci neuronowej"
   ]
  },
  {
   "cell_type": "markdown",
   "metadata": {},
   "source": [
    "#### Ładowanie struktur danych MNIST"
   ]
  },
  {
   "cell_type": "code",
   "execution_count": 34,
   "metadata": {},
   "outputs": [],
   "source": [
    "(train_images, train_labels), (test_images, test_labels) = mnist.load_data()"
   ]
  },
  {
   "cell_type": "code",
   "execution_count": 3,
   "metadata": {},
   "outputs": [
    {
     "data": {
      "text/plain": [
       "(60000, 28, 28)"
      ]
     },
     "execution_count": 3,
     "metadata": {},
     "output_type": "execute_result"
    }
   ],
   "source": [
    "train_images.shape"
   ]
  },
  {
   "cell_type": "code",
   "execution_count": 4,
   "metadata": {},
   "outputs": [
    {
     "data": {
      "text/plain": [
       "60000"
      ]
     },
     "execution_count": 4,
     "metadata": {},
     "output_type": "execute_result"
    }
   ],
   "source": [
    "len(train_labels)"
   ]
  },
  {
   "cell_type": "code",
   "execution_count": 5,
   "metadata": {},
   "outputs": [
    {
     "data": {
      "text/plain": [
       "array([5, 0, 4, ..., 5, 6, 8], dtype=uint8)"
      ]
     },
     "execution_count": 5,
     "metadata": {},
     "output_type": "execute_result"
    }
   ],
   "source": [
    "train_labels"
   ]
  },
  {
   "cell_type": "code",
   "execution_count": 6,
   "metadata": {},
   "outputs": [
    {
     "data": {
      "text/plain": [
       "(10000, 28, 28)"
      ]
     },
     "execution_count": 6,
     "metadata": {},
     "output_type": "execute_result"
    }
   ],
   "source": [
    "test_images.shape"
   ]
  },
  {
   "cell_type": "code",
   "execution_count": 7,
   "metadata": {},
   "outputs": [
    {
     "data": {
      "text/plain": [
       "10000"
      ]
     },
     "execution_count": 7,
     "metadata": {},
     "output_type": "execute_result"
    }
   ],
   "source": [
    "len(test_labels)"
   ]
  },
  {
   "cell_type": "code",
   "execution_count": 8,
   "metadata": {},
   "outputs": [
    {
     "data": {
      "text/plain": [
       "array([7, 2, 1, ..., 4, 5, 6], dtype=uint8)"
      ]
     },
     "execution_count": 8,
     "metadata": {},
     "output_type": "execute_result"
    }
   ],
   "source": [
    "test_labels"
   ]
  },
  {
   "cell_type": "markdown",
   "metadata": {},
   "source": [
    "#### Architekruta sieci"
   ]
  },
  {
   "cell_type": "code",
   "execution_count": 35,
   "metadata": {},
   "outputs": [],
   "source": [
    "network = models.Sequential()\n",
    "network.add(layers.Dense(512, activation='relu', input_shape=(28*28,)))\n",
    "network.add(layers.Dense(10, activation='softmax'))"
   ]
  },
  {
   "cell_type": "markdown",
   "metadata": {},
   "source": [
    "#### Etap kompilacji"
   ]
  },
  {
   "cell_type": "code",
   "execution_count": 36,
   "metadata": {},
   "outputs": [],
   "source": [
    "network.compile(optimizer='rmsprop',\n",
    "               loss='categorical_crossentropy',\n",
    "               metrics=['accuracy'])"
   ]
  },
  {
   "cell_type": "markdown",
   "metadata": {},
   "source": [
    "#### Przygotowanie danych w postacji obrazów"
   ]
  },
  {
   "cell_type": "code",
   "execution_count": 37,
   "metadata": {},
   "outputs": [],
   "source": [
    "train_images = train_images.reshape((60000, 28 * 28))\n",
    "train_images = train_images.astype('float32') / 255"
   ]
  },
  {
   "cell_type": "code",
   "execution_count": 38,
   "metadata": {},
   "outputs": [],
   "source": [
    "test_images = test_images.reshape((10000, 28 * 28))\n",
    "test_images = test_images.astype('float32') / 255"
   ]
  },
  {
   "cell_type": "markdown",
   "metadata": {},
   "source": [
    "#### Przygotowanie etykiet"
   ]
  },
  {
   "cell_type": "code",
   "execution_count": 40,
   "metadata": {},
   "outputs": [],
   "source": [
    "train_labels = to_categorical(train_labels)\n",
    "test_labels = to_categorical(test_labels)"
   ]
  },
  {
   "cell_type": "markdown",
   "metadata": {},
   "source": [
    "#### Trening modelu"
   ]
  },
  {
   "cell_type": "code",
   "execution_count": 41,
   "metadata": {},
   "outputs": [
    {
     "name": "stdout",
     "output_type": "stream",
     "text": [
      "Epoch 1/5\n",
      "60000/60000 [==============================] - 13s 220us/step - loss: 0.2542 - accuracy: 0.9271\n",
      "Epoch 2/5\n",
      "60000/60000 [==============================] - 13s 213us/step - loss: 0.1027 - accuracy: 0.9696s - loss: 0.1049 -  - ETA: 1s - - ETA: 0s - loss: 0.1033 - accu\n",
      "Epoch 3/5\n",
      "60000/60000 [==============================] - 12s 195us/step - loss: 0.0691 - accuracy: 0.9793\n",
      "Epoch 4/5\n",
      "60000/60000 [==============================] - 10s 169us/step - loss: 0.0496 - accuracy: 0.9851\n",
      "Epoch 5/5\n",
      "60000/60000 [==============================] - 7s 119us/step - loss: 0.0371 - accuracy: 0.9884\n"
     ]
    },
    {
     "data": {
      "text/plain": [
       "<keras.callbacks.callbacks.History at 0x1ef0223eeb8>"
      ]
     },
     "execution_count": 41,
     "metadata": {},
     "output_type": "execute_result"
    }
   ],
   "source": [
    "network.fit(train_images, train_labels, epochs=5, batch_size=128)"
   ]
  },
  {
   "cell_type": "code",
   "execution_count": 42,
   "metadata": {},
   "outputs": [
    {
     "name": "stdout",
     "output_type": "stream",
     "text": [
      "10000/10000 [==============================] - 2s 218us/step\n"
     ]
    }
   ],
   "source": [
    "test_loss, test_acc = network.evaluate(test_images, test_labels)"
   ]
  },
  {
   "cell_type": "code",
   "execution_count": 47,
   "metadata": {},
   "outputs": [
    {
     "name": "stdout",
     "output_type": "stream",
     "text": [
      "Loss: 0.0622 \n",
      "Accuracy: 0.9807\n"
     ]
    }
   ],
   "source": [
    "print('Loss: {} \\nAccuracy: {}'.format(np.round(test_loss, 4), np.round(test_acc, 4)))"
   ]
  },
  {
   "cell_type": "markdown",
   "metadata": {},
   "source": [
    "### Reprezentacja danych sieci neuronowej"
   ]
  },
  {
   "cell_type": "markdown",
   "metadata": {},
   "source": [
    "#### Skalary (tensory zerowymiarowe)"
   ]
  },
  {
   "cell_type": "code",
   "execution_count": 52,
   "metadata": {},
   "outputs": [
    {
     "data": {
      "text/plain": [
       "array(12)"
      ]
     },
     "execution_count": 52,
     "metadata": {},
     "output_type": "execute_result"
    }
   ],
   "source": [
    "x = np.array(12)\n",
    "x"
   ]
  },
  {
   "cell_type": "code",
   "execution_count": 54,
   "metadata": {},
   "outputs": [
    {
     "data": {
      "text/plain": [
       "0"
      ]
     },
     "execution_count": 54,
     "metadata": {},
     "output_type": "execute_result"
    }
   ],
   "source": [
    "x.ndim"
   ]
  },
  {
   "cell_type": "markdown",
   "metadata": {},
   "source": [
    "#### Wektory (tensory jednowymiarowe)"
   ]
  },
  {
   "cell_type": "code",
   "execution_count": 55,
   "metadata": {},
   "outputs": [
    {
     "data": {
      "text/plain": [
       "array([12,  3,  6, 14])"
      ]
     },
     "execution_count": 55,
     "metadata": {},
     "output_type": "execute_result"
    }
   ],
   "source": [
    "x = np.array([12, 3, 6, 14])\n",
    "x"
   ]
  },
  {
   "cell_type": "code",
   "execution_count": 56,
   "metadata": {},
   "outputs": [
    {
     "data": {
      "text/plain": [
       "1"
      ]
     },
     "execution_count": 56,
     "metadata": {},
     "output_type": "execute_result"
    }
   ],
   "source": [
    "x.ndim"
   ]
  },
  {
   "cell_type": "markdown",
   "metadata": {},
   "source": [
    "#### Macierze (wektory dwuwymiarowe)"
   ]
  },
  {
   "cell_type": "code",
   "execution_count": 57,
   "metadata": {},
   "outputs": [
    {
     "data": {
      "text/plain": [
       "array([[ 5, 78,  2, 34,  0],\n",
       "       [ 6, 79,  3, 35,  1],\n",
       "       [ 7, 80,  4, 36,  2]])"
      ]
     },
     "execution_count": 57,
     "metadata": {},
     "output_type": "execute_result"
    }
   ],
   "source": [
    "x = np.array([\n",
    "    [5, 78, 2, 34, 0],\n",
    "    [6, 79, 3, 35, 1],\n",
    "    [7, 80, 4, 36, 2]\n",
    "])\n",
    "x"
   ]
  },
  {
   "cell_type": "code",
   "execution_count": 58,
   "metadata": {},
   "outputs": [
    {
     "data": {
      "text/plain": [
       "2"
      ]
     },
     "execution_count": 58,
     "metadata": {},
     "output_type": "execute_result"
    }
   ],
   "source": [
    "x.ndim"
   ]
  },
  {
   "cell_type": "markdown",
   "metadata": {},
   "source": [
    "\n",
    "#### Tensory trójwymiarowe oraz większe"
   ]
  },
  {
   "cell_type": "code",
   "execution_count": 61,
   "metadata": {},
   "outputs": [
    {
     "data": {
      "text/plain": [
       "array([[[ 5, 78,  2, 34,  0],\n",
       "        [ 6, 79,  3, 35,  1],\n",
       "        [ 7, 80,  4, 36,  2]],\n",
       "\n",
       "       [[ 5, 78,  2, 34,  0],\n",
       "        [ 6, 79,  3, 35,  1],\n",
       "        [ 7, 80,  4, 36,  2]],\n",
       "\n",
       "       [[ 5, 78,  2, 34,  0],\n",
       "        [ 6, 79,  3, 35,  1],\n",
       "        [ 7, 80,  4, 36,  2]]])"
      ]
     },
     "execution_count": 61,
     "metadata": {},
     "output_type": "execute_result"
    }
   ],
   "source": [
    "x = np.array([\n",
    "    [\n",
    "        [5, 78, 2, 34, 0],\n",
    "        [6, 79, 3, 35, 1],\n",
    "        [7, 80, 4, 36, 2]\n",
    "    ],\n",
    "    [\n",
    "        [5, 78, 2, 34, 0],\n",
    "        [6, 79, 3, 35, 1],\n",
    "        [7, 80, 4, 36, 2]\n",
    "    ],\n",
    "    [\n",
    "        [5, 78, 2, 34, 0],\n",
    "        [6, 79, 3, 35, 1],\n",
    "        [7, 80, 4, 36, 2]\n",
    "    ]\n",
    "])\n",
    "x"
   ]
  },
  {
   "cell_type": "code",
   "execution_count": 64,
   "metadata": {},
   "outputs": [
    {
     "data": {
      "text/plain": [
       "3"
      ]
     },
     "execution_count": 64,
     "metadata": {},
     "output_type": "execute_result"
    }
   ],
   "source": [
    "x.ndim"
   ]
  },
  {
   "cell_type": "markdown",
   "metadata": {},
   "source": [
    "#### Główne atrybuty"
   ]
  },
  {
   "cell_type": "markdown",
   "metadata": {},
   "source": [
    "Liczba osi (ranga) - $ndim$\n",
    "\n",
    "Kształt - $shape$\n",
    "\n",
    "Typ danych - $dtype$"
   ]
  },
  {
   "cell_type": "code",
   "execution_count": 73,
   "metadata": {},
   "outputs": [
    {
     "name": "stdout",
     "output_type": "stream",
     "text": [
      "Liczba osi: 3\n",
      "Kształt: (60000, 28, 28)\n",
      "Typ danych: uint8\n"
     ]
    }
   ],
   "source": [
    "(train_images, test_labels), (test_images, test_labels) = mnist.load_data()\n",
    "\n",
    "print('Liczba osi:', train_images.ndim)\n",
    "print('Kształt:', train_images.shape)\n",
    "print('Typ danych:', train_images.dtype)"
   ]
  },
  {
   "cell_type": "markdown",
   "metadata": {},
   "source": [
    "#### Wyświetlanie cyfry"
   ]
  },
  {
   "cell_type": "code",
   "execution_count": 75,
   "metadata": {},
   "outputs": [],
   "source": [
    "import matplotlib.pyplot as plt"
   ]
  },
  {
   "cell_type": "code",
   "execution_count": 76,
   "metadata": {},
   "outputs": [
    {
     "data": {
      "image/png": "[encoded data removed]",
      "text/plain": [
       "<Figure size 432x288 with 1 Axes>"
      ]
     },
     "metadata": {
      "needs_background": "light"
     },
     "output_type": "display_data"
    }
   ],
   "source": [
    "digit = train_images[0]\n",
    "plt.imshow(digit, cmap=plt.cm.binary)\n",
    "plt.show()"
   ]
  },
  {
   "cell_type": "markdown",
   "metadata": {},
   "source": [
    "#### Obsługa tensorów w bibliotece Numpy"
   ]
  },
  {
   "cell_type": "code",
   "execution_count": 77,
   "metadata": {},
   "outputs": [
    {
     "name": "stdout",
     "output_type": "stream",
     "text": [
      "(90, 28, 28)\n"
     ]
    }
   ],
   "source": [
    "my_slice = train_images[10:100]\n",
    "my_slice.shape"
   ]
  },
  {
   "cell_type": "code",
   "execution_count": 78,
   "metadata": {},
   "outputs": [
    {
     "data": {
      "text/plain": [
       "(90, 28, 28)"
      ]
     },
     "execution_count": 78,
     "metadata": {},
     "output_type": "execute_result"
    }
   ],
   "source": [
    "my_slice = train_images[10:100, :, :]\n",
    "my_slice.shape"
   ]
  },
  {
   "cell_type": "code",
   "execution_count": 80,
   "metadata": {},
   "outputs": [
    {
     "data": {
      "text/plain": [
       "(90, 28, 28)"
      ]
     },
     "execution_count": 80,
     "metadata": {},
     "output_type": "execute_result"
    }
   ],
   "source": [
    "my_slice = train_images[10:100, 0:28, 0:28]\n",
    "my_slice.shape"
   ]
  },
  {
   "cell_type": "code",
   "execution_count": 81,
   "metadata": {},
   "outputs": [
    {
     "data": {
      "text/plain": [
       "(90, 14, 14)"
      ]
     },
     "execution_count": 81,
     "metadata": {},
     "output_type": "execute_result"
    }
   ],
   "source": [
    "my_slice = train_images[10:100, 0:14, 0:14]\n",
    "my_slice.shape"
   ]
  },
  {
   "cell_type": "code",
   "execution_count": 82,
   "metadata": {},
   "outputs": [
    {
     "data": {
      "text/plain": [
       "(90, 14, 14)"
      ]
     },
     "execution_count": 82,
     "metadata": {},
     "output_type": "execute_result"
    }
   ],
   "source": [
    "my_slice = train_images[10:100, 7:-7, 7:-7]\n",
    "my_slice.shape"
   ]
  },
  {
   "cell_type": "markdown",
   "metadata": {},
   "source": [
    "#### Wsad danych"
   ]
  },
  {
   "cell_type": "markdown",
   "metadata": {},
   "source": [
    "wsad ~ batch"
   ]
  },
  {
   "cell_type": "code",
   "execution_count": 83,
   "metadata": {},
   "outputs": [],
   "source": [
    "# Number 1\n",
    "batch = train_images[:128]"
   ]
  },
  {
   "cell_type": "code",
   "execution_count": 84,
   "metadata": {},
   "outputs": [],
   "source": [
    "# Number 2\n",
    "batch = train_images[128:256]"
   ]
  },
  {
   "cell_type": "code",
   "execution_count": 85,
   "metadata": {},
   "outputs": [],
   "source": [
    "# Number n\n",
    "n=4\n",
    "batch = train_images[128*n:128*(n+1)]"
   ]
  },
  {
   "cell_type": "markdown",
   "metadata": {},
   "source": [
    "### Operacje na tensorach"
   ]
  },
  {
   "cell_type": "code",
   "execution_count": 99,
   "metadata": {},
   "outputs": [],
   "source": [
    "# Relu\n",
    "def naive_relu(x):\n",
    "    assert len(x.shape) == 2, \"x must have two dimensional array!!!\"\n",
    "    \n",
    "    x=x.copy()\n",
    "    for i in range(x.shape[0]):\n",
    "        for j in range(x.shape[1]):\n",
    "            x[i,j] = max(x[i,j], 0)\n",
    "    return x"
   ]
  },
  {
   "cell_type": "code",
   "execution_count": 104,
   "metadata": {},
   "outputs": [
    {
     "name": "stdout",
     "output_type": "stream",
     "text": [
      "(5,)\n"
     ]
    },
    {
     "data": {
      "text/plain": [
       "array([[1, 0, 0, 3, 0],\n",
       "       [0, 0, 4, 3, 0]])"
      ]
     },
     "execution_count": 104,
     "metadata": {},
     "output_type": "execute_result"
    }
   ],
   "source": [
    "test_x_1 = np.array([[1, -1, 0, 3, -4], [-3, -2, 4, 3, 0]])\n",
    "print(test_x_1.shape)\n",
    "naive_relu(test_x_1)"
   ]
  },
  {
   "cell_type": "code",
   "execution_count": 106,
   "metadata": {},
   "outputs": [
    {
     "ename": "AssertionError",
     "evalue": "x must have two dimensional array!!! ",
     "output_type": "error",
     "traceback": [
      "\u001b[1;31m---------------------------------------------------------------------------\u001b[0m",
      "\u001b[1;31mAssertionError\u001b[0m                            Traceback (most recent call last)",
      "\u001b[1;32m<ipython-input-106-93763db934ef>\u001b[0m in \u001b[0;36m<module>\u001b[1;34m\u001b[0m\n\u001b[0;32m      1\u001b[0m \u001b[0mtest_x_2\u001b[0m \u001b[1;33m=\u001b[0m \u001b[0mnp\u001b[0m\u001b[1;33m.\u001b[0m\u001b[0marray\u001b[0m\u001b[1;33m(\u001b[0m\u001b[1;33m[\u001b[0m\u001b[1;36m1\u001b[0m\u001b[1;33m,\u001b[0m \u001b[1;33m-\u001b[0m\u001b[1;36m1\u001b[0m\u001b[1;33m,\u001b[0m \u001b[1;36m0\u001b[0m\u001b[1;33m,\u001b[0m \u001b[1;36m3\u001b[0m\u001b[1;33m,\u001b[0m \u001b[1;33m-\u001b[0m\u001b[1;36m4\u001b[0m\u001b[1;33m]\u001b[0m\u001b[1;33m)\u001b[0m\u001b[1;33m\u001b[0m\u001b[1;33m\u001b[0m\u001b[0m\n\u001b[1;32m----> 2\u001b[1;33m \u001b[0mnaive_relu\u001b[0m\u001b[1;33m(\u001b[0m\u001b[0mtest_x_2\u001b[0m\u001b[1;33m)\u001b[0m\u001b[1;33m\u001b[0m\u001b[1;33m\u001b[0m\u001b[0m\n\u001b[0m",
      "\u001b[1;32m<ipython-input-99-5b0cb8845f44>\u001b[0m in \u001b[0;36mnaive_relu\u001b[1;34m(x)\u001b[0m\n\u001b[0;32m      1\u001b[0m \u001b[1;31m# Relu\u001b[0m\u001b[1;33m\u001b[0m\u001b[1;33m\u001b[0m\u001b[1;33m\u001b[0m\u001b[0m\n\u001b[0;32m      2\u001b[0m \u001b[1;32mdef\u001b[0m \u001b[0mnaive_relu\u001b[0m\u001b[1;33m(\u001b[0m\u001b[0mx\u001b[0m\u001b[1;33m)\u001b[0m\u001b[1;33m:\u001b[0m\u001b[1;33m\u001b[0m\u001b[1;33m\u001b[0m\u001b[0m\n\u001b[1;32m----> 3\u001b[1;33m     \u001b[1;32massert\u001b[0m \u001b[0mlen\u001b[0m\u001b[1;33m(\u001b[0m\u001b[0mx\u001b[0m\u001b[1;33m.\u001b[0m\u001b[0mshape\u001b[0m\u001b[1;33m)\u001b[0m \u001b[1;33m==\u001b[0m \u001b[1;36m2\u001b[0m\u001b[1;33m,\u001b[0m \u001b[1;34m\"x must have two dimensional array!!! \"\u001b[0m\u001b[1;33m\u001b[0m\u001b[1;33m\u001b[0m\u001b[0m\n\u001b[0m\u001b[0;32m      4\u001b[0m \u001b[1;33m\u001b[0m\u001b[0m\n\u001b[0;32m      5\u001b[0m     \u001b[0mx\u001b[0m\u001b[1;33m=\u001b[0m\u001b[0mx\u001b[0m\u001b[1;33m.\u001b[0m\u001b[0mcopy\u001b[0m\u001b[1;33m(\u001b[0m\u001b[1;33m)\u001b[0m\u001b[1;33m\u001b[0m\u001b[1;33m\u001b[0m\u001b[0m\n",
      "\u001b[1;31mAssertionError\u001b[0m: x must have two dimensional array!!! "
     ]
    }
   ],
   "source": [
    "test_x_2 = np.array([1, -1, 0, 3, -4])\n",
    "naive_relu(test_x_2)"
   ]
  },
  {
   "cell_type": "markdown",
   "metadata": {},
   "source": [
    "#### Rzutowanie"
   ]
  },
  {
   "cell_type": "code",
   "execution_count": 107,
   "metadata": {},
   "outputs": [],
   "source": [
    "def naive_add_matrix_and_vector(x, y):\n",
    "    assert len(x.shape) == 2\n",
    "    assert len(y.shape) == 1\n",
    "    assert x.shape[1] == y.shape[0]\n",
    "    \n",
    "    x = x.copy()\n",
    "    for i in range(x.shape[0]):\n",
    "        for j in range(x.shape[1]):\n",
    "            x[i,j] += y[j]\n",
    "    return x"
   ]
  },
  {
   "cell_type": "code",
   "execution_count": 111,
   "metadata": {},
   "outputs": [
    {
     "data": {
      "text/plain": [
       "array([[ 8, 10, 12, 14, 16],\n",
       "       [14, 16, 18, 20, 22]])"
      ]
     },
     "execution_count": 111,
     "metadata": {},
     "output_type": "execute_result"
    }
   ],
   "source": [
    "x_test = np.array([[1, 2, 3, 4, 5], [7, 8, 9, 10, 11]])\n",
    "y_test = np.array([7, 8, 9, 10, 11])\n",
    "naive_add_matrix_and_vector(x_test, y_test)"
   ]
  },
  {
   "cell_type": "code",
   "execution_count": 113,
   "metadata": {},
   "outputs": [
    {
     "data": {
      "text/plain": [
       "array([[[[0.98955073, 0.54223696, 0.78638863, ..., 0.36320166,\n",
       "          0.82910903, 0.88039089],\n",
       "         [0.40871506, 0.31398961, 0.51890255, ..., 0.89575068,\n",
       "          0.84682657, 0.78206956],\n",
       "         [0.38616473, 0.4179477 , 0.91051735, ..., 0.61068308,\n",
       "          0.93969526, 0.89788618],\n",
       "         ...,\n",
       "         [0.92314379, 0.73222246, 0.17896107, ..., 0.74467989,\n",
       "          0.73635089, 0.3814771 ],\n",
       "         [0.44720164, 0.25585988, 0.62264348, ..., 0.9647647 ,\n",
       "          0.74230488, 0.5608077 ],\n",
       "         [0.67796807, 0.44120154, 0.63554807, ..., 0.56162218,\n",
       "          0.54207864, 0.72058744]],\n",
       "\n",
       "        [[0.98955073, 0.71676178, 0.78638863, ..., 0.92041622,\n",
       "          0.19396493, 0.88039089],\n",
       "         [0.40871506, 0.16968704, 0.5896608 , ..., 0.89575068,\n",
       "          0.84682657, 0.48836113],\n",
       "         [0.89036473, 0.99508784, 0.5209995 , ..., 0.51187374,\n",
       "          0.93969526, 0.89788618],\n",
       "         ...,\n",
       "         [0.92314379, 0.73222246, 0.2851765 , ..., 0.74467989,\n",
       "          0.50169874, 0.38362222],\n",
       "         [0.32483664, 0.74425748, 0.69553762, ..., 0.62797909,\n",
       "          0.89009724, 0.5608077 ],\n",
       "         [0.67796807, 0.16893002, 0.63554807, ..., 0.56162218,\n",
       "          0.58644354, 0.33205091]],\n",
       "\n",
       "        [[0.98955073, 0.54223696, 0.78638863, ..., 0.87355828,\n",
       "          0.3372464 , 0.88039089],\n",
       "         [0.6901877 , 0.83883822, 0.99643679, ..., 0.89575068,\n",
       "          0.84682657, 0.7454515 ],\n",
       "         [0.40992187, 0.71558702, 0.63757035, ..., 0.47010366,\n",
       "          0.93969526, 0.89788618],\n",
       "         ...,\n",
       "         [0.92314379, 0.73222246, 0.17896107, ..., 0.87096702,\n",
       "          0.4104176 , 0.210244  ],\n",
       "         [0.32483664, 0.44201106, 0.62264348, ..., 0.78308144,\n",
       "          0.74230488, 0.5608077 ],\n",
       "         [0.67796807, 0.23382478, 0.63554807, ..., 0.70292154,\n",
       "          0.87787465, 0.33205091]]],\n",
       "\n",
       "\n",
       "       [[[0.98955073, 0.99091417, 0.79730792, ..., 0.75124845,\n",
       "          0.91916296, 0.88039089],\n",
       "         [0.40871506, 0.21216808, 0.43499707, ..., 0.89575068,\n",
       "          0.84682657, 0.48836113],\n",
       "         [0.52737168, 0.4179477 , 0.79281986, ..., 0.47010366,\n",
       "          0.93969526, 0.89788618],\n",
       "         ...,\n",
       "         [0.92314379, 0.83236121, 0.86570961, ..., 0.74467989,\n",
       "          0.35267795, 0.60697418],\n",
       "         [0.91843734, 0.37113735, 0.62264348, ..., 0.8995091 ,\n",
       "          0.88448627, 0.64064605],\n",
       "         [0.98388854, 0.71807995, 0.63554807, ..., 0.56162218,\n",
       "          0.54207864, 0.34594251]],\n",
       "\n",
       "        [[0.98955073, 0.54223696, 0.78638863, ..., 0.63396541,\n",
       "          0.19396493, 0.88039089],\n",
       "         [0.40871506, 0.94394002, 0.38961856, ..., 0.89575068,\n",
       "          0.84682657, 0.86316861],\n",
       "         [0.53039643, 0.59845995, 0.5209995 , ..., 0.6505025 ,\n",
       "          0.93969526, 0.89788618],\n",
       "         ...,\n",
       "         [0.92314379, 0.77606802, 0.9556265 , ..., 0.74467989,\n",
       "          0.35267795, 0.83401544],\n",
       "         [0.77968016, 0.31132013, 0.62264348, ..., 0.58416872,\n",
       "          0.74230488, 0.68679607],\n",
       "         [0.67796807, 0.97644697, 0.85843264, ..., 0.56162218,\n",
       "          0.81029579, 0.793706  ]],\n",
       "\n",
       "        [[0.98955073, 0.54223696, 0.78638863, ..., 0.36320166,\n",
       "          0.49349761, 0.88039089],\n",
       "         [0.76605165, 0.95962508, 0.62699172, ..., 0.89575068,\n",
       "          0.84682657, 0.87357579],\n",
       "         [0.38616473, 0.57377033, 0.5209995 , ..., 0.54101214,\n",
       "          0.93969526, 0.89788618],\n",
       "         ...,\n",
       "         [0.92314379, 0.73222246, 0.22051799, ..., 0.74467989,\n",
       "          0.7096763 , 0.85141972],\n",
       "         [0.90625184, 0.45083842, 0.62264348, ..., 0.81340356,\n",
       "          0.74230488, 0.835879  ],\n",
       "         [0.67796807, 0.2004252 , 0.63554807, ..., 0.75734765,\n",
       "          0.54207864, 0.33205091]]],\n",
       "\n",
       "\n",
       "       [[[0.98955073, 0.54223696, 0.78638863, ..., 0.80143058,\n",
       "          0.19396493, 0.88039089],\n",
       "         [0.49659373, 0.53096576, 0.64900371, ..., 0.89575068,\n",
       "          0.84682657, 0.59499563],\n",
       "         [0.65977844, 0.87188211, 0.65894473, ..., 0.47010366,\n",
       "          0.93969526, 0.89788618],\n",
       "         ...,\n",
       "         [0.92314379, 0.73222246, 0.17896107, ..., 0.74467989,\n",
       "          0.35267795, 0.210244  ],\n",
       "         [0.60540106, 0.60440764, 0.62264348, ..., 0.82271995,\n",
       "          0.74230488, 0.5608077 ],\n",
       "         [0.67796807, 0.48895882, 0.8538158 , ..., 0.56162218,\n",
       "          0.54207864, 0.94518647]],\n",
       "\n",
       "        [[0.98955073, 0.63330097, 0.78638863, ..., 0.56212457,\n",
       "          0.27460933, 0.92534109],\n",
       "         [0.40871506, 0.89208336, 0.69085285, ..., 0.89575068,\n",
       "          0.84682657, 0.48836113],\n",
       "         [0.38616473, 0.73816553, 0.52590978, ..., 0.47010366,\n",
       "          0.93969526, 0.94366771],\n",
       "         ...,\n",
       "         [0.92314379, 0.73222246, 0.83174915, ..., 0.79417147,\n",
       "          0.35267795, 0.42465516],\n",
       "         [0.65759182, 0.25375984, 0.62264348, ..., 0.58861491,\n",
       "          0.74230488, 0.5608077 ],\n",
       "         [0.67796807, 0.15761144, 0.76544106, ..., 0.56162218,\n",
       "          0.89902608, 0.33205091]],\n",
       "\n",
       "        [[0.98955073, 0.94026719, 0.78638863, ..., 0.36320166,\n",
       "          0.19396493, 0.88039089],\n",
       "         [0.47118573, 0.13884269, 0.31550415, ..., 0.89575068,\n",
       "          0.84682657, 0.48836113],\n",
       "         [0.75917722, 0.4179477 , 0.5209995 , ..., 0.78068478,\n",
       "          0.93969526, 0.89788618],\n",
       "         ...,\n",
       "         [0.92314379, 0.73222246, 0.85912479, ..., 0.83151485,\n",
       "          0.35267795, 0.49948602],\n",
       "         [0.37621336, 0.5955204 , 0.62264348, ..., 0.71256042,\n",
       "          0.74230488, 0.57309923],\n",
       "         [0.77415982, 0.54251245, 0.63554807, ..., 0.8943376 ,\n",
       "          0.59822278, 0.83234745]]],\n",
       "\n",
       "\n",
       "       ...,\n",
       "\n",
       "\n",
       "       [[[0.98955073, 0.54223696, 0.78638863, ..., 0.45982081,\n",
       "          0.19396493, 0.88039089],\n",
       "         [0.40871506, 0.50462648, 0.44314155, ..., 0.89575068,\n",
       "          0.95621427, 0.9763949 ],\n",
       "         [0.82310784, 0.62497297, 0.5209995 , ..., 0.93821553,\n",
       "          0.93969526, 0.89788618],\n",
       "         ...,\n",
       "         [0.92314379, 0.73222246, 0.67800181, ..., 0.74467989,\n",
       "          0.35267795, 0.210244  ],\n",
       "         [0.53451192, 0.30116919, 0.66371989, ..., 0.58416872,\n",
       "          0.74230488, 0.5608077 ],\n",
       "         [0.92239081, 0.45184823, 0.63554807, ..., 0.56162218,\n",
       "          0.94348907, 0.93181416]],\n",
       "\n",
       "        [[0.98955073, 0.54223696, 0.78638863, ..., 0.77603216,\n",
       "          0.90514675, 0.88039089],\n",
       "         [0.5411481 , 0.90432457, 0.44291257, ..., 0.89575068,\n",
       "          0.98723334, 0.48836113],\n",
       "         [0.92461937, 0.4179477 , 0.97300655, ..., 0.47010366,\n",
       "          0.93969526, 0.89788618],\n",
       "         ...,\n",
       "         [0.92314379, 0.95493282, 0.17896107, ..., 0.74467989,\n",
       "          0.35267795, 0.88798914],\n",
       "         [0.94154796, 0.79013943, 0.85364531, ..., 0.91019462,\n",
       "          0.92486169, 0.82586102],\n",
       "         [0.7619047 , 0.41805616, 0.63554807, ..., 0.67592244,\n",
       "          0.54207864, 0.33205091]],\n",
       "\n",
       "        [[0.98955073, 0.54223696, 0.78638863, ..., 0.40711142,\n",
       "          0.41992919, 0.91749301],\n",
       "         [0.44570473, 0.99142814, 0.8923943 , ..., 0.89575068,\n",
       "          0.84682657, 0.48836113],\n",
       "         [0.38616473, 0.70579979, 0.85415158, ..., 0.47010366,\n",
       "          0.93969526, 0.89788618],\n",
       "         ...,\n",
       "         [0.92314379, 0.99931149, 0.70291143, ..., 0.74467989,\n",
       "          0.43964112, 0.59105089],\n",
       "         [0.32483664, 0.72466844, 0.62264348, ..., 0.98434061,\n",
       "          0.74230488, 0.7053384 ],\n",
       "         [0.67796807, 0.49958783, 0.63554807, ..., 0.63927516,\n",
       "          0.81250906, 0.722137  ]]],\n",
       "\n",
       "\n",
       "       [[[0.98955073, 0.77485487, 0.78638863, ..., 0.88380033,\n",
       "          0.89393877, 0.88039089],\n",
       "         [0.70799825, 0.58303178, 0.70212487, ..., 0.89575068,\n",
       "          0.84682657, 0.58909072],\n",
       "         [0.51142107, 0.72282651, 0.5209995 , ..., 0.47010366,\n",
       "          0.93969526, 0.98337721],\n",
       "         ...,\n",
       "         [0.92314379, 0.82521726, 0.77459741, ..., 0.74467989,\n",
       "          0.77614362, 0.55489223],\n",
       "         [0.48426825, 0.97593197, 0.62264348, ..., 0.69672645,\n",
       "          0.74230488, 0.78088134],\n",
       "         [0.67796807, 0.25164834, 0.63554807, ..., 0.72126538,\n",
       "          0.55461351, 0.33205091]],\n",
       "\n",
       "        [[0.98955073, 0.54223696, 0.78638863, ..., 0.44245107,\n",
       "          0.66904394, 0.88039089],\n",
       "         [0.87353925, 0.45995397, 0.9312287 , ..., 0.89575068,\n",
       "          0.92778728, 0.92196165],\n",
       "         [0.38616473, 0.4179477 , 0.5209995 , ..., 0.47010366,\n",
       "          0.93969526, 0.89788618],\n",
       "         ...,\n",
       "         [0.92314379, 0.78977878, 0.20711009, ..., 0.74467989,\n",
       "          0.69010519, 0.34904815],\n",
       "         [0.5673337 , 0.39931132, 0.71914703, ..., 0.90965735,\n",
       "          0.79509507, 0.5608077 ],\n",
       "         [0.67796807, 0.95968198, 0.83610774, ..., 0.88698192,\n",
       "          0.54207864, 0.52289336]],\n",
       "\n",
       "        [[0.98955073, 0.54223696, 0.8869677 , ..., 0.36320166,\n",
       "          0.25749403, 0.88039089],\n",
       "         [0.40871506, 0.82590073, 0.31550415, ..., 0.89575068,\n",
       "          0.84682657, 0.59878393],\n",
       "         [0.38616473, 0.89632093, 0.5209995 , ..., 0.47010366,\n",
       "          0.93969526, 0.89788618],\n",
       "         ...,\n",
       "         [0.92314379, 0.95818368, 0.6259256 , ..., 0.74467989,\n",
       "          0.86128536, 0.22170819],\n",
       "         [0.32483664, 0.98658753, 0.62264348, ..., 0.59176306,\n",
       "          0.74230488, 0.5608077 ],\n",
       "         [0.67796807, 0.08445311, 0.63554807, ..., 0.56162218,\n",
       "          0.85923186, 0.47703271]]],\n",
       "\n",
       "\n",
       "       [[[0.98955073, 0.98748236, 0.78638863, ..., 0.8430736 ,\n",
       "          0.69502414, 0.88039089],\n",
       "         [0.40871506, 0.59093374, 0.31550415, ..., 0.89575068,\n",
       "          0.84682657, 0.51917291],\n",
       "         [0.63477664, 0.71798928, 0.5209995 , ..., 0.47010366,\n",
       "          0.93969526, 0.89788618],\n",
       "         ...,\n",
       "         [0.92314379, 0.78472989, 0.45002138, ..., 0.74467989,\n",
       "          0.76842817, 0.39926097],\n",
       "         [0.32483664, 0.99966796, 0.62264348, ..., 0.60822542,\n",
       "          0.74230488, 0.5608077 ],\n",
       "         [0.67796807, 0.28552172, 0.90733715, ..., 0.56162218,\n",
       "          0.83387502, 0.96195459]],\n",
       "\n",
       "        [[0.98955073, 0.59739185, 0.91083362, ..., 0.54609325,\n",
       "          0.7843892 , 0.88039089],\n",
       "         [0.62968368, 0.64903235, 0.93719497, ..., 0.89575068,\n",
       "          0.84682657, 0.49118478],\n",
       "         [0.77064836, 0.4179477 , 0.5209995 , ..., 0.53977428,\n",
       "          0.93969526, 0.89788618],\n",
       "         ...,\n",
       "         [0.92314379, 0.83462795, 0.70972062, ..., 0.74467989,\n",
       "          0.35267795, 0.210244  ],\n",
       "         [0.32483664, 0.26172191, 0.62264348, ..., 0.58416872,\n",
       "          0.74230488, 0.5608077 ],\n",
       "         [0.67796807, 0.33314605, 0.78625988, ..., 0.80000607,\n",
       "          0.54207864, 0.57612332]],\n",
       "\n",
       "        [[0.98955073, 0.79308887, 0.85365878, ..., 0.66263751,\n",
       "          0.94132195, 0.88039089],\n",
       "         [0.40871506, 0.54430275, 0.34076931, ..., 0.89575068,\n",
       "          0.84682657, 0.77547567],\n",
       "         [0.73496203, 0.4179477 , 0.71744921, ..., 0.96497286,\n",
       "          0.93969526, 0.89788618],\n",
       "         ...,\n",
       "         [0.92314379, 0.73222246, 0.88215224, ..., 0.74467989,\n",
       "          0.80012714, 0.41754189],\n",
       "         [0.32926012, 0.76637053, 0.7274457 , ..., 0.58416872,\n",
       "          0.76795759, 0.73966817],\n",
       "         [0.91456752, 0.90764237, 0.63554807, ..., 0.56162218,\n",
       "          0.54207864, 0.33205091]]]])"
      ]
     },
     "execution_count": 113,
     "metadata": {},
     "output_type": "execute_result"
    }
   ],
   "source": [
    "x = np.random.random((64, 3, 32, 10))\n",
    "y = np.random.random((32, 10))\n",
    "\n",
    "z = np.maximum(x, y)\n",
    "z"
   ]
  },
  {
   "cell_type": "markdown",
   "metadata": {},
   "source": [
    "#### Iloczyn tensorowy"
   ]
  },
  {
   "cell_type": "code",
   "execution_count": 119,
   "metadata": {},
   "outputs": [],
   "source": [
    "# Iloczyn skalarny wektor\n",
    "def naive_vector_dot(x, y):\n",
    "    assert len(x.shape) == 1\n",
    "    assert len(y.shape) == 1\n",
    "    assert x.shape[0] == y.shape[0]\n",
    "    z=0\n",
    "    for i in range(x.shape[0]):\n",
    "        z += x[i] * y[i]\n",
    "    return z"
   ]
  },
  {
   "cell_type": "code",
   "execution_count": 121,
   "metadata": {},
   "outputs": [],
   "source": [
    "# Iloczyn skalarny macierzy (1)\n",
    "def naive_matrix_vector_dot(x, y):\n",
    "    assert len(x.shape) == 2\n",
    "    assert len(y.shape) == 1\n",
    "    assert x.shape[1] == y.shape[0]\n",
    "    \n",
    "    z=np.zeros(x.shape[0])\n",
    "    for i in range(x.shape[0]):\n",
    "        for j in range(x.shape[1]):\n",
    "            z[i] += x[i,j] * y[j]\n",
    "    return z    "
   ]
  },
  {
   "cell_type": "code",
   "execution_count": 122,
   "metadata": {},
   "outputs": [],
   "source": [
    "# Iloczyn skalarny macierzy (2)\n",
    "def naive_matrix_vector_dot(x, y):\n",
    "    assert len(x.shape) == 2\n",
    "    assert len(y.shape) == 1\n",
    "    assert x.shape[1] == y.shape[0]\n",
    "    \n",
    "    z=np.zeros(x.shape[0])\n",
    "    for i in range(x.shape[0]):\n",
    "        z[i] = naive_vector_dot(x[i, :], y)\n",
    "    return z"
   ]
  },
  {
   "cell_type": "code",
   "execution_count": 125,
   "metadata": {},
   "outputs": [
    {
     "data": {
      "text/plain": [
       "array([ 550., 1300.])"
      ]
     },
     "execution_count": 125,
     "metadata": {},
     "output_type": "execute_result"
    }
   ],
   "source": [
    "x_test = np.array([[1, 2, 3, 4, 5], [6, 7, 8, 9, 10]])\n",
    "y_test = np.array([10, 20, 30, 40, 50])\n",
    "naive_matrix_vector_dot(x_test, y_test)"
   ]
  },
  {
   "cell_type": "code",
   "execution_count": 130,
   "metadata": {},
   "outputs": [
    {
     "data": {
      "text/plain": [
       "5500"
      ]
     },
     "execution_count": 130,
     "metadata": {},
     "output_type": "execute_result"
    }
   ],
   "source": [
    "naive_vector_dot(y_test, y_test)"
   ]
  }
 ],
 "metadata": {
  "kernelspec": {
   "display_name": "Python 3",
   "language": "python",
   "name": "python3"
  },
  "language_info": {
   "codemirror_mode": {
    "name": "ipython",
    "version": 3
   },
   "file_extension": ".py",
   "mimetype": "text/x-python",
   "name": "python",
   "nbconvert_exporter": "python",
   "pygments_lexer": "ipython3",
   "version": "3.7.3"
  }
 },
 "nbformat": 4,
 "nbformat_minor": 2
}
