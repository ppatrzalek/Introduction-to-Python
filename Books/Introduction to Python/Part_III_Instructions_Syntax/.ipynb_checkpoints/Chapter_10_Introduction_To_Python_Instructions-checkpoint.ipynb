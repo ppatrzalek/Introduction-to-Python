{
 "cells": [
  {
   "cell_type": "markdown",
   "metadata": {},
   "source": [
    "### Wykonywanie obliczeń na danych użytokownika"
   ]
  },
  {
   "cell_type": "code",
   "execution_count": 1,
   "metadata": {},
   "outputs": [
    {
     "name": "stdout",
     "output_type": "stream",
     "text": [
      "Wpisz tekst:2\n",
      "4\n",
      "Wpisz tekst:40\n",
      "1600\n",
      "Wpisz tekst:stop\n",
      "Koniec\n"
     ]
    }
   ],
   "source": [
    "while True:\n",
    "    reply = input(\"Wpisz tekst:\")\n",
    "    if reply == 'stop': \n",
    "        break\n",
    "    print(int(reply) ** 2)\n",
    "print(\"Koniec\")    "
   ]
  },
  {
   "cell_type": "markdown",
   "metadata": {},
   "source": [
    "### Obsługa błędów za pomocą sprawdzania danych wejściowych"
   ]
  },
  {
   "cell_type": "code",
   "execution_count": 2,
   "metadata": {},
   "outputs": [
    {
     "name": "stdout",
     "output_type": "stream",
     "text": [
      "Wpisz tekst:5\n",
      "25\n",
      "Wpisz tekst:xyz\n",
      "Niepoprawnie!Niepoprawnie!Niepoprawnie!Niepoprawnie!Niepoprawnie!\n",
      "Wpisz tekst:100\n",
      "10000\n",
      "Wpisz tekst:stop\n",
      "Koniec\n"
     ]
    }
   ],
   "source": [
    "while True:\n",
    "    reply = input('Wpisz tekst:')\n",
    "    if reply == 'stop':\n",
    "        break\n",
    "    elif not reply.isdigit():\n",
    "        print('Niepoprawnie!' * 5)\n",
    "    else:\n",
    "        print(int(reply) ** 2)\n",
    "print('Koniec')"
   ]
  },
  {
   "cell_type": "markdown",
   "metadata": {},
   "source": [
    "### Obsługa błędów przy pomocy instrukcji try"
   ]
  },
  {
   "cell_type": "code",
   "execution_count": 4,
   "metadata": {},
   "outputs": [
    {
     "name": "stdout",
     "output_type": "stream",
     "text": [
      "Wpisz tekst:6\n",
      "36\n",
      "Wpisz tekst:106\n",
      "11236\n",
      "Wpisz tekst:tekst\n",
      "NiepoprawnieNiepoprawnieNiepoprawnieNiepoprawnieNiepoprawnie\n",
      "Wpisz tekst:stop\n",
      "Koniec\n"
     ]
    }
   ],
   "source": [
    "while True:\n",
    "    reply = input('Wpisz tekst:')\n",
    "    if reply == 'stop':\n",
    "        break\n",
    "    try:\n",
    "        num = int(reply)\n",
    "    except:\n",
    "        print('Niepoprawnie' * 5)\n",
    "    else:\n",
    "        print(num ** 2)\n",
    "print('Koniec')      "
   ]
  },
  {
   "cell_type": "markdown",
   "metadata": {},
   "source": [
    "### Kod zagnieżdżony na trzy poziomy głębokości"
   ]
  },
  {
   "cell_type": "code",
   "execution_count": 7,
   "metadata": {},
   "outputs": [
    {
     "name": "stdout",
     "output_type": "stream",
     "text": [
      "Wpisz tekst:2\n",
      "mało\n",
      "Wpisz tekst:21\n",
      "441\n",
      "Wpisz tekst:4r\n",
      "Niepoprawnie!Niepoprawnie!Niepoprawnie!Niepoprawnie!Niepoprawnie!\n",
      "Wpisz tekst:stop\n",
      "Koniec\n"
     ]
    }
   ],
   "source": [
    "while True:\n",
    "    reply = input('Wpisz tekst:')\n",
    "    if reply == 'stop':\n",
    "        break\n",
    "    elif not reply.isdigit():\n",
    "        print('Niepoprawnie!' * 5)\n",
    "    else:\n",
    "        num = int(reply)\n",
    "        if num < 20:\n",
    "            print('mało')\n",
    "        else:\n",
    "            print(num ** 2)\n",
    "print('Koniec')            "
   ]
  },
  {
   "cell_type": "code",
   "execution_count": null,
   "metadata": {},
   "outputs": [],
   "source": []
  }
 ],
 "metadata": {
  "kernelspec": {
   "display_name": "Python 3",
   "language": "python",
   "name": "python3"
  },
  "language_info": {
   "codemirror_mode": {
    "name": "ipython",
    "version": 3
   },
   "file_extension": ".py",
   "mimetype": "text/x-python",
   "name": "python",
   "nbconvert_exporter": "python",
   "pygments_lexer": "ipython3",
   "version": "3.7.3"
  }
 },
 "nbformat": 4,
 "nbformat_minor": 2
}
