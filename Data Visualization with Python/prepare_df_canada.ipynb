{
 "cells": [
  {
   "cell_type": "code",
   "execution_count": 2,
   "metadata": {},
   "outputs": [],
   "source": [
    "import numpy as np\n",
    "import pandas as pd\n",
    "import os \n",
    "%matplotlib inline"
   ]
  },
  {
   "cell_type": "code",
   "execution_count": 3,
   "metadata": {},
   "outputs": [],
   "source": [
    "# Set working directory\n",
    "os.chdir('C:\\\\Users\\\\ppatrzalek\\\\Python Scripts\\\\')"
   ]
  },
  {
   "cell_type": "code",
   "execution_count": 5,
   "metadata": {},
   "outputs": [],
   "source": [
    "# Read dataset\n",
    "xlsx_path = 'Datasets/Canada.xlsx'\n",
    "df_canada = pd.read_excel(\n",
    "    xlsx_path,\n",
    "    sheet_name = 'Canada by Citizenship',\n",
    "    sep ='',\n",
    "    skiprows=range(20)\n",
    ")"
   ]
  },
  {
   "cell_type": "code",
   "execution_count": 6,
   "metadata": {},
   "outputs": [],
   "source": [
    "# Rename column names\n",
    "df_canada.rename(columns={\"AreaName\":\"Continent\", \"OdName\":\"Country\", \"RegName\":\"Region\"}, inplace=True)\n",
    "df_top5.rename(columns = {\"United Kingdom of Great Britain and Northern Ireland\": \"United Kingdom\"}, inplace=True)\n"
   ]
  },
  {
   "cell_type": "code",
   "execution_count": 8,
   "metadata": {},
   "outputs": [],
   "source": [
    "# Change type of columns to string\n",
    "df_canada.columns = df_canada.columns.astype(str)"
   ]
  },
  {
   "cell_type": "code",
   "execution_count": 9,
   "metadata": {},
   "outputs": [],
   "source": [
    "# Drop unusefull columns\n",
    "df_canada.drop([\"Type\", \"Coverage\", \"AREA\", \"REG\", \"DEV\"], axis=1, inplace=True)"
   ]
  },
  {
   "cell_type": "code",
   "execution_count": 10,
   "metadata": {},
   "outputs": [],
   "source": [
    "# Set Index Country\n",
    "df_canada.set_index(\"Country\", inplace = True)"
   ]
  },
  {
   "cell_type": "code",
   "execution_count": 11,
   "metadata": {},
   "outputs": [],
   "source": [
    "# Create new variables\n",
    "df_canada['Total'] = df_canada.sum(numeric_only=True, axis=1)"
   ]
  },
  {
   "cell_type": "code",
   "execution_count": 12,
   "metadata": {},
   "outputs": [],
   "source": [
    "# Sort values by Total feature\n",
    "df_canada.sort_values(['Total'], ascending = False, axis = 0, inplace = True)\n",
    "df_canada.drop(['Total', 'Unknown'], axis=0, inplace=True)"
   ]
  },
  {
   "cell_type": "code",
   "execution_count": 13,
   "metadata": {},
   "outputs": [],
   "source": [
    "# Save new dataset\n",
    "df_canada.to_csv('Datasets/df_canada.csv')"
   ]
  }
 ],
 "metadata": {
  "kernelspec": {
   "display_name": "Python 3",
   "language": "python",
   "name": "python3"
  },
  "language_info": {
   "codemirror_mode": {
    "name": "ipython",
    "version": 3
   },
   "file_extension": ".py",
   "mimetype": "text/x-python",
   "name": "python",
   "nbconvert_exporter": "python",
   "pygments_lexer": "ipython3",
   "version": "3.7.1"
  }
 },
 "nbformat": 4,
 "nbformat_minor": 2
}
