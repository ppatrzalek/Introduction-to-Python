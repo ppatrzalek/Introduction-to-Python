{
 "cells": [
  {
   "cell_type": "code",
   "execution_count": 21,
   "metadata": {},
   "outputs": [],
   "source": [
    "File1 = open(\"Datasets/Example1.txt\", \"r\")"
   ]
  },
  {
   "cell_type": "code",
   "execution_count": 27,
   "metadata": {},
   "outputs": [
    {
     "name": "stdout",
     "output_type": "stream",
     "text": [
      "Przykladowy plik tekstowy\n",
      "Druga linia\n",
      "Trzecia linia\n",
      "Ostatnia linia\n"
     ]
    }
   ],
   "source": [
    "with open(\"Datasets/Example1.txt\", \"r\") as File1:\n",
    "    \n",
    "    file_stuff = File1.read()\n",
    "    print(file_stuff)   \n",
    "  "
   ]
  },
  {
   "cell_type": "code",
   "execution_count": 28,
   "metadata": {},
   "outputs": [
    {
     "name": "stdout",
     "output_type": "stream",
     "text": [
      "True\n"
     ]
    }
   ],
   "source": [
    "print(File1.closed)"
   ]
  },
  {
   "cell_type": "code",
   "execution_count": 29,
   "metadata": {},
   "outputs": [
    {
     "name": "stdout",
     "output_type": "stream",
     "text": [
      "Przykladowy plik tekstowy\n",
      "Druga linia\n",
      "Trzecia linia\n",
      "Ostatnia linia\n"
     ]
    }
   ],
   "source": [
    "print(file_stuff)"
   ]
  },
  {
   "cell_type": "code",
   "execution_count": 30,
   "metadata": {},
   "outputs": [
    {
     "name": "stdout",
     "output_type": "stream",
     "text": [
      "Przykladowy plik tekstowy\n",
      "\n",
      "Druga linia\n",
      "\n"
     ]
    }
   ],
   "source": [
    "with open(\"Datasets/Example1.txt\", \"r\") as File1:\n",
    "    \n",
    "    file_stuff = File1.readline()\n",
    "    print(file_stuff)\n",
    "    file_stuff = File1.readline()\n",
    "    print(file_stuff)"
   ]
  },
  {
   "cell_type": "code",
   "execution_count": 33,
   "metadata": {},
   "outputs": [
    {
     "name": "stdout",
     "output_type": "stream",
     "text": [
      "Przykladowy plik tekstowy\n",
      "\n",
      "Druga linia\n",
      "\n",
      "Trzecia linia\n",
      "\n",
      "Ostatnia linia\n"
     ]
    }
   ],
   "source": [
    "with open(\"Datasets/Example1.txt\", \"r\") as File1:\n",
    "    \n",
    "    for line in File1:\n",
    "        print(line)"
   ]
  },
  {
   "cell_type": "code",
   "execution_count": 36,
   "metadata": {},
   "outputs": [
    {
     "name": "stdout",
     "output_type": "stream",
     "text": [
      "['Przykladowy plik tekstowy\\n']\n",
      "['Druga linia\\n', 'Trzecia linia\\n']\n"
     ]
    }
   ],
   "source": [
    "with open(\"Datasets/Example1.txt\", \"r\") as File1:\n",
    "    \n",
    "    file_stuff = File1.readlines(16)\n",
    "    print(file_stuff)\n",
    "    file_stuff = File1.readlines(20)\n",
    "    print(file_stuff)"
   ]
  },
  {
   "cell_type": "code",
   "execution_count": null,
   "metadata": {},
   "outputs": [],
   "source": []
  }
 ],
 "metadata": {
  "kernelspec": {
   "display_name": "Python 3",
   "language": "python",
   "name": "python3"
  },
  "language_info": {
   "codemirror_mode": {
    "name": "ipython",
    "version": 3
   },
   "file_extension": ".py",
   "mimetype": "text/x-python",
   "name": "python",
   "nbconvert_exporter": "python",
   "pygments_lexer": "ipython3",
   "version": "3.7.1"
  }
 },
 "nbformat": 4,
 "nbformat_minor": 2
}
