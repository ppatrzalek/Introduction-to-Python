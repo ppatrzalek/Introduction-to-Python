{
 "cells": [
  {
   "cell_type": "code",
   "execution_count": 3,
   "metadata": {},
   "outputs": [],
   "source": [
    "File1 = open(\"Datasets/Exampe2.txt\", \"w\")"
   ]
  },
  {
   "cell_type": "code",
   "execution_count": 5,
   "metadata": {},
   "outputs": [],
   "source": [
    "with open(\"Datasets/Example2.txt\", \"w\") as File1:\n",
    "    File1.write(\"This is line A \\n\")\n",
    "    File1.write(\"This is line B\\n\")"
   ]
  },
  {
   "cell_type": "code",
   "execution_count": 10,
   "metadata": {},
   "outputs": [
    {
     "name": "stdout",
     "output_type": "stream",
     "text": [
      "This is line A \n",
      "This is line B\n",
      "\n"
     ]
    }
   ],
   "source": [
    "with open(\"Datasets/Example2.txt\", \"r\") as File2:\n",
    "    \n",
    "    file_stuff = File2.read()\n",
    "    print(file_stuff)"
   ]
  },
  {
   "cell_type": "code",
   "execution_count": 11,
   "metadata": {},
   "outputs": [],
   "source": [
    "Lines = [\"This is line A\\n\", \"This is line B\\n\", \"This is line C\\n\"]\n",
    "\n",
    "with open(\"Datasets/Example2.txt\", \"w\") as File1:\n",
    "    \n",
    "    for line in Lines:\n",
    "        \n",
    "        File1.write(line)"
   ]
  },
  {
   "cell_type": "code",
   "execution_count": 12,
   "metadata": {},
   "outputs": [
    {
     "name": "stdout",
     "output_type": "stream",
     "text": [
      "This is line A\n",
      "This is line B\n",
      "This is line C\n",
      "\n"
     ]
    }
   ],
   "source": [
    "with open(\"Datasets/Example2.txt\", \"r\") as File2:\n",
    "    \n",
    "    file_stuff = File2.read()\n",
    "    print(file_stuff)"
   ]
  },
  {
   "cell_type": "code",
   "execution_count": 13,
   "metadata": {},
   "outputs": [],
   "source": [
    "with open(\"Datasets/Example2.txt\", \"a\") as File1:\n",
    "    \n",
    "    File1.write(\"This is next line -> D\")"
   ]
  },
  {
   "cell_type": "code",
   "execution_count": 19,
   "metadata": {},
   "outputs": [
    {
     "name": "stdout",
     "output_type": "stream",
     "text": [
      "This is line A\n",
      "This is line B\n",
      "This is line C\n",
      "This is next line -> D\n"
     ]
    }
   ],
   "source": [
    "with open(\"Datasets/Example2.txt\", \"r\") as File1:\n",
    "    \n",
    "    file_stuff = File1.read()\n",
    "    print(file_stuff)"
   ]
  },
  {
   "cell_type": "code",
   "execution_count": 27,
   "metadata": {},
   "outputs": [],
   "source": [
    "with open(\"Datasets/Example2.txt\", \"r\") as readfile:\n",
    "    with open(\"Datasets/Example3.txt\", \"w\") as writefile:\n",
    "        \n",
    "        for line in readfile:\n",
    "            writefile.write(line)\n",
    "            \n",
    "        writefile.write(\"\\nThis is last line -> E\")    "
   ]
  },
  {
   "cell_type": "code",
   "execution_count": 28,
   "metadata": {},
   "outputs": [
    {
     "name": "stdout",
     "output_type": "stream",
     "text": [
      "This is line A\n",
      "This is line B\n",
      "This is line C\n",
      "This is next line -> D\n",
      "This is last line -> E\n"
     ]
    }
   ],
   "source": [
    "with open(\"Datasets/Example3.txt\", \"r\") as File2:\n",
    "    \n",
    "    file_stuff = File2.read()\n",
    "    print(file_stuff)"
   ]
  },
  {
   "cell_type": "code",
   "execution_count": null,
   "metadata": {},
   "outputs": [],
   "source": []
  }
 ],
 "metadata": {
  "kernelspec": {
   "display_name": "Python 3",
   "language": "python",
   "name": "python3"
  },
  "language_info": {
   "codemirror_mode": {
    "name": "ipython",
    "version": 3
   },
   "file_extension": ".py",
   "mimetype": "text/x-python",
   "name": "python",
   "nbconvert_exporter": "python",
   "pygments_lexer": "ipython3",
   "version": "3.7.1"
  }
 },
 "nbformat": 4,
 "nbformat_minor": 2
}
